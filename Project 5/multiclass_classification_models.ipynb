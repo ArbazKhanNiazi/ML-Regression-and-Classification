{
 "cells": [
  {
   "cell_type": "markdown",
   "metadata": {},
   "source": [
    "# Multiclass Classification Models"
   ]
  },
  {
   "cell_type": "markdown",
   "metadata": {},
   "source": [
    "## Objectives:\n",
    "\n",
    "1. **Build a Multiclass Classification Model with Linear Decision Boundaries:**\n",
    "    - Import necessary libraries.\n",
    "    - Read the dataset from waveform folder, view it, and check for any missing values.\n",
    "    - Define functions for splitting the dataset and standardizing it using Scikit-Learn.\n",
    "    - Convert dataset into numpy arrays, and split the dataset.\n",
    "    - Train linear and non-linear/polynomial multinomial logistic regression models using Scikit-Learn.\n",
    "    - Evaluate each model on training, cross-validation, and testing datasets.\n",
    "    - Determine the optimal model.\n",
    "    - Build a custom model based on the resulting optimal model.\n",
    "    - Train and evaluate the custom model and compare results with the Scikit-Learn model.\n",
    "\n",
    "2. **Build a Multiclass Classification Model with Non-linear Decision Boundaries:**\n",
    "    - Read the dataset from optdigits folder, view it, and check for any missing values.\n",
    "    - Convert dataset into numpy arrays, and split the dataset.\n",
    "    - Train and evaulate linear and non-linear/polynomial multinomial logistic regression models using Scikit-Learn.\n",
    "    - Determine the optimal model.\n",
    "    - Based on the resulting optimal model, build a custom model.\n",
    "    - Train and evaluate the custom model and compare results with the Scikit-Learn model."
   ]
  },
  {
   "cell_type": "markdown",
   "metadata": {},
   "source": [
    "## 1. Multiclass Classification Model with Linear Decision Boundaries"
   ]
  },
  {
   "cell_type": "code",
   "execution_count": 1,
   "metadata": {},
   "outputs": [],
   "source": [
    "# Import necessary libraries\n",
    "import numpy as np\n",
    "import plotly.express as px"
   ]
  },
  {
   "cell_type": "markdown",
   "metadata": {},
   "source": [
    "##### This project uses data from the [`UCI Machine Learning Repository`](https://archive.ics.uci.edu/dataset/107/waveform+database+generator+version+1). The dataset is licensed under a [`Creative Commons Attribution 4.0 International (CC BY 4.0) license`](https://creativecommons.org/licenses/by/4.0/legalcode). Variable names were added to waveform.data file and the dataset was converted into numpy arrays, for building a machine learning model."
   ]
  },
  {
   "cell_type": "code",
   "execution_count": 2,
   "metadata": {},
   "outputs": [
    {
     "data": {
      "text/html": [
       "<div>\n",
       "<style scoped>\n",
       "    .dataframe tbody tr th:only-of-type {\n",
       "        vertical-align: middle;\n",
       "    }\n",
       "\n",
       "    .dataframe tbody tr th {\n",
       "        vertical-align: top;\n",
       "    }\n",
       "\n",
       "    .dataframe thead th {\n",
       "        text-align: right;\n",
       "    }\n",
       "</style>\n",
       "<table border=\"1\" class=\"dataframe\">\n",
       "  <thead>\n",
       "    <tr style=\"text-align: right;\">\n",
       "      <th></th>\n",
       "      <th>Attribute1</th>\n",
       "      <th>Attribute2</th>\n",
       "      <th>Attribute3</th>\n",
       "      <th>Attribute4</th>\n",
       "      <th>Attribute5</th>\n",
       "      <th>Attribute6</th>\n",
       "      <th>Attribute7</th>\n",
       "      <th>Attribute8</th>\n",
       "      <th>Attribute9</th>\n",
       "      <th>Attribute10</th>\n",
       "      <th>...</th>\n",
       "      <th>Attribute13</th>\n",
       "      <th>Attribute14</th>\n",
       "      <th>Attribute15</th>\n",
       "      <th>Attribute16</th>\n",
       "      <th>Attribute17</th>\n",
       "      <th>Attribute18</th>\n",
       "      <th>Attribute19</th>\n",
       "      <th>Attribute20</th>\n",
       "      <th>Attribute21</th>\n",
       "      <th>class</th>\n",
       "    </tr>\n",
       "  </thead>\n",
       "  <tbody>\n",
       "    <tr>\n",
       "      <th>0</th>\n",
       "      <td>-1.23</td>\n",
       "      <td>-1.56</td>\n",
       "      <td>-1.75</td>\n",
       "      <td>-0.28</td>\n",
       "      <td>0.60</td>\n",
       "      <td>2.22</td>\n",
       "      <td>0.85</td>\n",
       "      <td>0.21</td>\n",
       "      <td>-0.20</td>\n",
       "      <td>0.89</td>\n",
       "      <td>...</td>\n",
       "      <td>2.89</td>\n",
       "      <td>7.75</td>\n",
       "      <td>4.59</td>\n",
       "      <td>3.15</td>\n",
       "      <td>5.12</td>\n",
       "      <td>3.32</td>\n",
       "      <td>1.20</td>\n",
       "      <td>0.24</td>\n",
       "      <td>-0.56</td>\n",
       "      <td>2</td>\n",
       "    </tr>\n",
       "    <tr>\n",
       "      <th>1</th>\n",
       "      <td>-0.69</td>\n",
       "      <td>2.43</td>\n",
       "      <td>0.61</td>\n",
       "      <td>2.08</td>\n",
       "      <td>2.30</td>\n",
       "      <td>3.25</td>\n",
       "      <td>5.52</td>\n",
       "      <td>4.55</td>\n",
       "      <td>2.97</td>\n",
       "      <td>2.22</td>\n",
       "      <td>...</td>\n",
       "      <td>1.24</td>\n",
       "      <td>1.89</td>\n",
       "      <td>1.88</td>\n",
       "      <td>-1.34</td>\n",
       "      <td>0.83</td>\n",
       "      <td>1.41</td>\n",
       "      <td>1.78</td>\n",
       "      <td>0.60</td>\n",
       "      <td>2.42</td>\n",
       "      <td>1</td>\n",
       "    </tr>\n",
       "    <tr>\n",
       "      <th>2</th>\n",
       "      <td>-0.12</td>\n",
       "      <td>-0.94</td>\n",
       "      <td>1.29</td>\n",
       "      <td>2.59</td>\n",
       "      <td>2.42</td>\n",
       "      <td>3.55</td>\n",
       "      <td>4.94</td>\n",
       "      <td>3.25</td>\n",
       "      <td>1.90</td>\n",
       "      <td>2.07</td>\n",
       "      <td>...</td>\n",
       "      <td>2.50</td>\n",
       "      <td>0.12</td>\n",
       "      <td>1.41</td>\n",
       "      <td>2.78</td>\n",
       "      <td>0.64</td>\n",
       "      <td>0.62</td>\n",
       "      <td>-0.01</td>\n",
       "      <td>-0.79</td>\n",
       "      <td>-0.12</td>\n",
       "      <td>0</td>\n",
       "    </tr>\n",
       "    <tr>\n",
       "      <th>3</th>\n",
       "      <td>0.86</td>\n",
       "      <td>0.29</td>\n",
       "      <td>2.19</td>\n",
       "      <td>-0.02</td>\n",
       "      <td>1.13</td>\n",
       "      <td>2.51</td>\n",
       "      <td>2.37</td>\n",
       "      <td>5.45</td>\n",
       "      <td>5.45</td>\n",
       "      <td>4.84</td>\n",
       "      <td>...</td>\n",
       "      <td>2.58</td>\n",
       "      <td>1.40</td>\n",
       "      <td>1.24</td>\n",
       "      <td>1.41</td>\n",
       "      <td>1.07</td>\n",
       "      <td>-1.43</td>\n",
       "      <td>2.84</td>\n",
       "      <td>-1.18</td>\n",
       "      <td>1.12</td>\n",
       "      <td>1</td>\n",
       "    </tr>\n",
       "    <tr>\n",
       "      <th>4</th>\n",
       "      <td>1.16</td>\n",
       "      <td>0.37</td>\n",
       "      <td>0.40</td>\n",
       "      <td>-0.59</td>\n",
       "      <td>2.66</td>\n",
       "      <td>1.00</td>\n",
       "      <td>2.69</td>\n",
       "      <td>4.06</td>\n",
       "      <td>5.34</td>\n",
       "      <td>3.53</td>\n",
       "      <td>...</td>\n",
       "      <td>4.30</td>\n",
       "      <td>1.84</td>\n",
       "      <td>1.73</td>\n",
       "      <td>0.21</td>\n",
       "      <td>-0.18</td>\n",
       "      <td>0.13</td>\n",
       "      <td>-0.21</td>\n",
       "      <td>-0.80</td>\n",
       "      <td>-0.68</td>\n",
       "      <td>1</td>\n",
       "    </tr>\n",
       "    <tr>\n",
       "      <th>...</th>\n",
       "      <td>...</td>\n",
       "      <td>...</td>\n",
       "      <td>...</td>\n",
       "      <td>...</td>\n",
       "      <td>...</td>\n",
       "      <td>...</td>\n",
       "      <td>...</td>\n",
       "      <td>...</td>\n",
       "      <td>...</td>\n",
       "      <td>...</td>\n",
       "      <td>...</td>\n",
       "      <td>...</td>\n",
       "      <td>...</td>\n",
       "      <td>...</td>\n",
       "      <td>...</td>\n",
       "      <td>...</td>\n",
       "      <td>...</td>\n",
       "      <td>...</td>\n",
       "      <td>...</td>\n",
       "      <td>...</td>\n",
       "      <td>...</td>\n",
       "    </tr>\n",
       "    <tr>\n",
       "      <th>4995</th>\n",
       "      <td>-0.65</td>\n",
       "      <td>0.69</td>\n",
       "      <td>2.29</td>\n",
       "      <td>-0.16</td>\n",
       "      <td>0.51</td>\n",
       "      <td>0.26</td>\n",
       "      <td>2.34</td>\n",
       "      <td>-0.42</td>\n",
       "      <td>0.49</td>\n",
       "      <td>0.31</td>\n",
       "      <td>...</td>\n",
       "      <td>3.46</td>\n",
       "      <td>4.81</td>\n",
       "      <td>5.49</td>\n",
       "      <td>5.19</td>\n",
       "      <td>3.10</td>\n",
       "      <td>3.86</td>\n",
       "      <td>2.96</td>\n",
       "      <td>1.09</td>\n",
       "      <td>-1.42</td>\n",
       "      <td>0</td>\n",
       "    </tr>\n",
       "    <tr>\n",
       "      <th>4996</th>\n",
       "      <td>-0.02</td>\n",
       "      <td>0.67</td>\n",
       "      <td>2.34</td>\n",
       "      <td>3.18</td>\n",
       "      <td>2.16</td>\n",
       "      <td>4.77</td>\n",
       "      <td>6.70</td>\n",
       "      <td>4.54</td>\n",
       "      <td>4.92</td>\n",
       "      <td>3.39</td>\n",
       "      <td>...</td>\n",
       "      <td>1.53</td>\n",
       "      <td>2.52</td>\n",
       "      <td>1.14</td>\n",
       "      <td>-1.56</td>\n",
       "      <td>-1.18</td>\n",
       "      <td>-0.56</td>\n",
       "      <td>0.02</td>\n",
       "      <td>-1.05</td>\n",
       "      <td>-0.18</td>\n",
       "      <td>1</td>\n",
       "    </tr>\n",
       "    <tr>\n",
       "      <th>4997</th>\n",
       "      <td>0.01</td>\n",
       "      <td>-1.99</td>\n",
       "      <td>0.16</td>\n",
       "      <td>2.30</td>\n",
       "      <td>-0.53</td>\n",
       "      <td>1.93</td>\n",
       "      <td>3.61</td>\n",
       "      <td>3.00</td>\n",
       "      <td>4.61</td>\n",
       "      <td>5.73</td>\n",
       "      <td>...</td>\n",
       "      <td>3.14</td>\n",
       "      <td>3.04</td>\n",
       "      <td>1.61</td>\n",
       "      <td>0.60</td>\n",
       "      <td>-0.52</td>\n",
       "      <td>0.62</td>\n",
       "      <td>1.00</td>\n",
       "      <td>1.21</td>\n",
       "      <td>-0.27</td>\n",
       "      <td>1</td>\n",
       "    </tr>\n",
       "    <tr>\n",
       "      <th>4998</th>\n",
       "      <td>-0.40</td>\n",
       "      <td>0.41</td>\n",
       "      <td>-0.48</td>\n",
       "      <td>1.04</td>\n",
       "      <td>0.79</td>\n",
       "      <td>-0.66</td>\n",
       "      <td>1.18</td>\n",
       "      <td>0.52</td>\n",
       "      <td>2.20</td>\n",
       "      <td>0.59</td>\n",
       "      <td>...</td>\n",
       "      <td>3.64</td>\n",
       "      <td>3.62</td>\n",
       "      <td>5.97</td>\n",
       "      <td>2.63</td>\n",
       "      <td>3.83</td>\n",
       "      <td>1.72</td>\n",
       "      <td>2.08</td>\n",
       "      <td>1.31</td>\n",
       "      <td>1.37</td>\n",
       "      <td>0</td>\n",
       "    </tr>\n",
       "    <tr>\n",
       "      <th>4999</th>\n",
       "      <td>0.63</td>\n",
       "      <td>-0.07</td>\n",
       "      <td>2.71</td>\n",
       "      <td>2.55</td>\n",
       "      <td>3.36</td>\n",
       "      <td>3.22</td>\n",
       "      <td>3.69</td>\n",
       "      <td>4.67</td>\n",
       "      <td>3.45</td>\n",
       "      <td>3.87</td>\n",
       "      <td>...</td>\n",
       "      <td>-0.52</td>\n",
       "      <td>1.90</td>\n",
       "      <td>0.88</td>\n",
       "      <td>3.15</td>\n",
       "      <td>1.27</td>\n",
       "      <td>-0.53</td>\n",
       "      <td>0.09</td>\n",
       "      <td>0.01</td>\n",
       "      <td>0.60</td>\n",
       "      <td>1</td>\n",
       "    </tr>\n",
       "  </tbody>\n",
       "</table>\n",
       "<p>5000 rows × 22 columns</p>\n",
       "</div>"
      ],
      "text/plain": [
       "      Attribute1  Attribute2  Attribute3  Attribute4  Attribute5  Attribute6  \\\n",
       "0          -1.23       -1.56       -1.75       -0.28        0.60        2.22   \n",
       "1          -0.69        2.43        0.61        2.08        2.30        3.25   \n",
       "2          -0.12       -0.94        1.29        2.59        2.42        3.55   \n",
       "3           0.86        0.29        2.19       -0.02        1.13        2.51   \n",
       "4           1.16        0.37        0.40       -0.59        2.66        1.00   \n",
       "...          ...         ...         ...         ...         ...         ...   \n",
       "4995       -0.65        0.69        2.29       -0.16        0.51        0.26   \n",
       "4996       -0.02        0.67        2.34        3.18        2.16        4.77   \n",
       "4997        0.01       -1.99        0.16        2.30       -0.53        1.93   \n",
       "4998       -0.40        0.41       -0.48        1.04        0.79       -0.66   \n",
       "4999        0.63       -0.07        2.71        2.55        3.36        3.22   \n",
       "\n",
       "      Attribute7  Attribute8  Attribute9  Attribute10  ...  Attribute13  \\\n",
       "0           0.85        0.21       -0.20         0.89  ...         2.89   \n",
       "1           5.52        4.55        2.97         2.22  ...         1.24   \n",
       "2           4.94        3.25        1.90         2.07  ...         2.50   \n",
       "3           2.37        5.45        5.45         4.84  ...         2.58   \n",
       "4           2.69        4.06        5.34         3.53  ...         4.30   \n",
       "...          ...         ...         ...          ...  ...          ...   \n",
       "4995        2.34       -0.42        0.49         0.31  ...         3.46   \n",
       "4996        6.70        4.54        4.92         3.39  ...         1.53   \n",
       "4997        3.61        3.00        4.61         5.73  ...         3.14   \n",
       "4998        1.18        0.52        2.20         0.59  ...         3.64   \n",
       "4999        3.69        4.67        3.45         3.87  ...        -0.52   \n",
       "\n",
       "      Attribute14  Attribute15  Attribute16  Attribute17  Attribute18  \\\n",
       "0            7.75         4.59         3.15         5.12         3.32   \n",
       "1            1.89         1.88        -1.34         0.83         1.41   \n",
       "2            0.12         1.41         2.78         0.64         0.62   \n",
       "3            1.40         1.24         1.41         1.07        -1.43   \n",
       "4            1.84         1.73         0.21        -0.18         0.13   \n",
       "...           ...          ...          ...          ...          ...   \n",
       "4995         4.81         5.49         5.19         3.10         3.86   \n",
       "4996         2.52         1.14        -1.56        -1.18        -0.56   \n",
       "4997         3.04         1.61         0.60        -0.52         0.62   \n",
       "4998         3.62         5.97         2.63         3.83         1.72   \n",
       "4999         1.90         0.88         3.15         1.27        -0.53   \n",
       "\n",
       "      Attribute19  Attribute20  Attribute21  class  \n",
       "0            1.20         0.24        -0.56      2  \n",
       "1            1.78         0.60         2.42      1  \n",
       "2           -0.01        -0.79        -0.12      0  \n",
       "3            2.84        -1.18         1.12      1  \n",
       "4           -0.21        -0.80        -0.68      1  \n",
       "...           ...          ...          ...    ...  \n",
       "4995         2.96         1.09        -1.42      0  \n",
       "4996         0.02        -1.05        -0.18      1  \n",
       "4997         1.00         1.21        -0.27      1  \n",
       "4998         2.08         1.31         1.37      0  \n",
       "4999         0.09         0.01         0.60      1  \n",
       "\n",
       "[5000 rows x 22 columns]"
      ]
     },
     "execution_count": 2,
     "metadata": {},
     "output_type": "execute_result"
    }
   ],
   "source": [
    "import pandas as pd\n",
    "\n",
    "data = pd.read_csv(\"waveform/waveform.data\")\n",
    "data"
   ]
  },
  {
   "cell_type": "code",
   "execution_count": 3,
   "metadata": {},
   "outputs": [
    {
     "name": "stdout",
     "output_type": "stream",
     "text": [
      "\n",
      "Missing values in dataset: \n",
      "[False False False False False False False False False False False False\n",
      " False False False False False False False False False False]\n"
     ]
    }
   ],
   "source": [
    "# Check for any missing values in the dataset\n",
    "print(f\"\\nMissing values in dataset: \\n{data.isna().any().values}\")"
   ]
  },
  {
   "cell_type": "markdown",
   "metadata": {},
   "source": [
    "We have a cleaned dataset with **5,000** training examples, **21** feature variables, and **1** target variable. Our goal is to build a multiclass classification model with a linear decision boundaries. To ensure that the linear decision boundaries will be suitable for this multiclass dataset, we will first use scikit-learn to build and evaluate both linear and non-linear/polynomial multiclass classification models. After identifying the optimal scikit-learn model, we will develop a custom model based on these findings and compare its results with the optimal scikit-learn model. This approach saves time by efficiently determining the best model type before building our custom models."
   ]
  },
  {
   "cell_type": "code",
   "execution_count": 4,
   "metadata": {},
   "outputs": [],
   "source": [
    "from sklearn.model_selection import train_test_split\n",
    "from sklearn.preprocessing import StandardScaler\n",
    "\n",
    "\n",
    "def split_dataset(X, y):\n",
    "    # Splitting the data into training (60%), cross-validation (20%), and testing (20%) sets\n",
    "    X_train, X_temp, y_train, y_temp = train_test_split(X, y, test_size=0.4, random_state=42, stratify=y)\n",
    "    X_val, X_test, y_val, y_test = train_test_split(X_temp, y_temp, test_size=0.5, random_state=42, stratify=y_temp)\n",
    "\n",
    "    return X_train, y_train, X_val, y_val, X_test, y_test\n",
    "\n",
    "\n",
    "def standardize_dataset(X_train, X_val, X_test):\n",
    "    # Standardizing the datasets\n",
    "    scaler = StandardScaler()\n",
    "\n",
    "    # Fitting the scaler on the training data and transforming training, validation, and testing sets\n",
    "    X_train_scaled = scaler.fit_transform(X_train)\n",
    "    X_val_scaled = scaler.transform(X_val)\n",
    "    X_test_scaled = scaler.transform(X_test)\n",
    "\n",
    "    return scaler, X_train_scaled, X_val_scaled, X_test_scaled"
   ]
  },
  {
   "cell_type": "code",
   "execution_count": 5,
   "metadata": {},
   "outputs": [
    {
     "name": "stdout",
     "output_type": "stream",
     "text": [
      "Training set: (3000, 21), (3000,)\n",
      "Validation set: (1000, 21), (1000,)\n",
      "Test set: (1000, 21), (1000,)\n"
     ]
    }
   ],
   "source": [
    "# Convert the data into numpy arrays of features (X) and target (y)\n",
    "X = data.iloc[:, :-1].values\n",
    "y = data.iloc[:, -1].values\n",
    "\n",
    "# Splitting the dataset into training, validation, and test sets\n",
    "X_train, y_train, X_val, y_val, X_test, y_test = split_dataset(X, y)\n",
    "\n",
    "# Printing the shapes of the resulting datasets\n",
    "print(f\"Training set: {X_train.shape}, {y_train.shape}\")\n",
    "print(f\"Validation set: {X_val.shape}, {y_val.shape}\")\n",
    "print(f\"Test set: {X_test.shape}, {y_test.shape}\")"
   ]
  },
  {
   "cell_type": "code",
   "execution_count": 6,
   "metadata": {},
   "outputs": [
    {
     "name": "stdout",
     "output_type": "stream",
     "text": [
      "Linear Multinomial Logistic Regression:\n",
      "Training set - Accuracy: 0.8727, Precision: 0.8725, Recall: 0.8727, F1-score: 0.8724\n",
      "Validation set - Accuracy: 0.8670, Precision: 0.8679, Recall: 0.8670, F1-score: 0.8668\n",
      "Test set - Accuracy: 0.8860, Precision: 0.8862, Recall: 0.8860, F1-score: 0.8857\n",
      "\n",
      "Polynomial Degree 2 Multinomial Logistic Regression:\n",
      "Training set - Accuracy: 0.9267, Precision: 0.9265, Recall: 0.9267, F1-score: 0.9265\n",
      "Validation set - Accuracy: 0.8440, Precision: 0.8442, Recall: 0.8440, F1-score: 0.8437\n",
      "Test set - Accuracy: 0.8500, Precision: 0.8500, Recall: 0.8500, F1-score: 0.8499\n",
      "\n",
      "Polynomial Degree 3 Multinomial Logistic Regression:\n",
      "Training set - Accuracy: 1.0000, Precision: 1.0000, Recall: 1.0000, F1-score: 1.0000\n",
      "Validation set - Accuracy: 0.8120, Precision: 0.8119, Recall: 0.8120, F1-score: 0.8119\n",
      "Test set - Accuracy: 0.8300, Precision: 0.8301, Recall: 0.8300, F1-score: 0.8299\n"
     ]
    }
   ],
   "source": [
    "from sklearn.pipeline import make_pipeline\n",
    "from sklearn.preprocessing import PolynomialFeatures\n",
    "from sklearn.linear_model import LogisticRegression\n",
    "from sklearn.metrics import accuracy_score, precision_score, recall_score, f1_score\n",
    "\n",
    "\n",
    "def train_eval_multinomial_logistic_regression(X_train, y_train, X_val, y_val, X_test, y_test, degree=1):\n",
    "    # Initialize multinomial logistic regression model for multiclass classification (linear/polynomial)\n",
    "    model = make_pipeline(\n",
    "        PolynomialFeatures(degree=degree),\n",
    "        StandardScaler(),\n",
    "        LogisticRegression(random_state=42, max_iter=1000, multi_class=\"multinomial\", solver=\"lbfgs\")\n",
    "    )\n",
    "    \n",
    "    # Train the model\n",
    "    model.fit(X_train, y_train)\n",
    "    \n",
    "    # Evaluate on training set\n",
    "    train_acc, train_prec, train_rec, train_f1 = evaluate_model(model, X_train, y_train)\n",
    "    \n",
    "    # Evaluate on validation set\n",
    "    val_acc, val_prec, val_rec, val_f1 = evaluate_model(model, X_val, y_val)\n",
    "\n",
    "    # Evaluate on testing set\n",
    "    test_acc, test_prec, test_rec, test_f1 = evaluate_model(model, X_test, y_test)\n",
    "\n",
    "    print(\"Linear Multinomial Logistic Regression:\") if degree == 1 \\\n",
    "        else print(f\"\\nPolynomial Degree {degree} Multinomial Logistic Regression:\")\n",
    "    \n",
    "    print(f\"Training set - Accuracy: {train_acc:.4f}, Precision: {train_prec:.4f}, Recall: {train_rec:.4f}, \"\n",
    "            f\"F1-score: {train_f1:.4f}\")\n",
    "\n",
    "    print(f\"Validation set - Accuracy: {val_acc:.4f}, Precision: {val_prec:.4f}, Recall: {val_rec:.4f}, \"\n",
    "            f\"F1-score: {val_f1:.4f}\")\n",
    "    \n",
    "    print(f\"Test set - Accuracy: {test_acc:.4f}, Precision: {test_prec:.4f}, Recall: {test_rec:.4f}, \"\n",
    "            f\"F1-score: {test_f1:.4f}\")\n",
    "    \n",
    "    return model\n",
    "\n",
    "\n",
    "def evaluate_model(model, X, y):\n",
    "    # Predict the target values using the provided model and features\n",
    "    y_pred = model.predict(X)\n",
    "    \n",
    "    # Calculate the accuracy of the model\n",
    "    accuracy = accuracy_score(y, y_pred)\n",
    "    # Calculate the precision of the model\n",
    "    precision = precision_score(y, y_pred, average=\"weighted\")\n",
    "    # Calculate the recall of the model\n",
    "    recall = recall_score(y, y_pred, average=\"weighted\")\n",
    "    # Calculate the F1 score of the model\n",
    "    f1 = f1_score(y, y_pred, average=\"weighted\")\n",
    "    \n",
    "    return accuracy, precision, recall, f1\n",
    "\n",
    "\n",
    "# Train and evaluate linear multinomial logistic regression model for multiclass classification\n",
    "linear_mlr_model = train_eval_multinomial_logistic_regression(X_train, y_train, X_val, y_val, X_test, y_test)\n",
    "\n",
    "# Train and evaluate polynomial (degree 2) multinomial logistic regression model for multiclass classification\n",
    "poly2_mlr_model = train_eval_multinomial_logistic_regression(X_train, y_train, X_val, y_val, X_test, y_test, \\\n",
    "                                                             degree=2)\n",
    "\n",
    "# Train and evaluate polynomial (degree 3) multinomial logistic regression model for multiclass classification\n",
    "poly3_mlr_model = train_eval_multinomial_logistic_regression(X_train, y_train, X_val, y_val, X_test, y_test, \\\n",
    "                                                             degree=3)"
   ]
  },
  {
   "cell_type": "markdown",
   "metadata": {},
   "source": [
    "Based on the above evaluations, the **Linear Multinomial Logistic Regression** model shows the best balance between bias and variance, with validation and test set scores indicating better generalization: **validation accuracy** of **0.8670** and **test accuracy** of **0.8860**. The **Polynomial Degree 2** model, while achieving a high **training accuracy** of **0.9267**, performs worse on validation (**0.8440**) and test sets (**0.8500**), suggesting overfitting. The **Polynomial Degree 3** model significantly overfits, with a perfect **training accuracy** of **1.0000** but lower validation (**0.8120**) and test accuracy (**0.8300**). Hence, the **Linear Multinomial Logistic Regression** model is the optimal choice for this dataset. Now, we will build our **Custom Linear Multinomial Logistic Regression** model and compare the results with the scikit-learn optimal model."
   ]
  },
  {
   "cell_type": "markdown",
   "metadata": {},
   "source": [
    "The multinomial logistic regression (softmax regression) model can be represented as:\n",
    "\n",
    "$$\n",
    "\\begin{equation}\n",
    "\\hat{\\mathbf{Y}} = \\sigma(\\mathbf{X} \\cdot \\mathbf{W} + \\mathbf{b})\n",
    "\\end{equation}\n",
    "$$\n",
    "\n",
    "where:\n",
    "- $\\hat{\\mathbf{Y}}$ represents the predicted probabilities matrix,\n",
    "- $\\sigma(\\mathbf{z})_j = \\frac{e^{z_j}}{\\sum_{k=1}^{K} e^{z_k}}$ is the softmax function that converts the output logits into probabilities,\n",
    "- $j = 1, 2, \\ldots, K$,\n",
    "- $K$ is the number of classes,\n",
    "- $\\mathbf{X}$ represents the features matrix,\n",
    "- $\\mathbf{W}$ represents the weight matrix,\n",
    "- $\\mathbf{b}$ represents the bias vector.\n",
    "\n",
    "To train the multinomial logistic regression model, we use the cross-entropy loss as the loss function:\n",
    "\n",
    "$$\n",
    "\\begin{equation}\n",
    "\\text{Cross-Entropy Loss} = -\\frac{1}{m} \\sum_{i=1}^{m} \\sum_{k=1}^{K} y_{i,k} \\log(\\hat{y}_{i,k}) \\tag{2}\n",
    "\\end{equation}\n",
    "$$\n",
    "\n",
    "where:\n",
    "- $m$ is the number of data points,\n",
    "- $y_{i,k}$ is the actual binary indicator (0 or 1) if the class label of the $i$-th instance is $k$,\n",
    "- $\\hat{y}_{i,k}$ is the predicted probability that the $i$-th instance belongs to class $k$.\n",
    "\n",
    "To update the parameters $\\mathbf{W}$ and $\\mathbf{b}$, we use gradient descent:\n",
    "\n",
    "$$\n",
    "\\begin{equation}\n",
    "\\mathbf{W}_{\\text{new}} = \\mathbf{W}_{\\text{old}} - \\alpha \\times \\frac{\\partial \\text{Cross-Entropy Loss}}{\\partial \\mathbf{W}} \\tag{3}\n",
    "\\end{equation}\n",
    "$$\n",
    "\n",
    "$$\n",
    "\\begin{equation}\n",
    "\\mathbf{b}_{\\text{new}} = \\mathbf{b}_{\\text{old}} - \\alpha \\times \\frac{\\partial \\text{Cross-Entropy Loss}}{\\partial \\mathbf{b}} \\tag{4}\n",
    "\\end{equation}\n",
    "$$\n",
    "\n",
    "where:\n",
    "- $\\mathbf{W}_{\\text{new}}$ and $\\mathbf{W}_{\\text{old}}$ are the updated and current weight matrices, respectively,\n",
    "- $\\mathbf{b}_{\\text{new}}$ and $\\mathbf{b}_{\\text{old}}$ are the updated and current bias vectors, respectively,\n",
    "- $\\alpha$ is the learning rate,\n",
    "- $\\frac{\\partial \\text{Cross-Entropy Loss}}{\\partial \\mathbf{W}}$ is the gradient of the Cross-Entropy Loss function with respect to the weight matrix,\n",
    "- $\\frac{\\partial \\text{Cross-Entropy Loss}}{\\partial \\mathbf{b}}$ is the gradient of the Cross-Entropy Loss function with respect to the bias vector.\n",
    "\n",
    "The gradients with respect to the weights and biases are computed as follows:\n",
    "\n",
    "$$\n",
    "\\begin{equation}\n",
    "\\frac{\\partial \\text{Cross-Entropy Loss}}{\\partial \\mathbf{W}} = \\frac{1}{m} \\sum_{i=1}^{m} (\\hat{y}_{i,k} - {y}_{i,k}) {x}_{i,j} \\tag{5}\n",
    "\\end{equation}\n",
    "$$\n",
    "\n",
    "$$\n",
    "\\begin{equation}\n",
    "\\frac{\\partial \\text{Cross-Entropy Loss}}{\\partial \\mathbf{b}} = \\frac{1}{m} \\sum_{i=1}^{m} (\\hat{y}_{i,k} - {y}_{i,k}) \\tag{6}\n",
    "\\end{equation}\n",
    "$$"
   ]
  },
  {
   "cell_type": "code",
   "execution_count": 34,
   "metadata": {},
   "outputs": [],
   "source": [
    "class MultinomialLogisticRegression:\n",
    "    def __init__(self, learning_rate=0.01, num_iterations=1000):\n",
    "        self.learning_rate = learning_rate\n",
    "        self.num_iterations = num_iterations\n",
    "        self.weights = None\n",
    "        self.biases = None\n",
    "        self.cost_history = []\n",
    "\n",
    "\n",
    "    def initialize_parameters(self, n_features, k_classes):\n",
    "        # Initialize weights as zero matrix of shape (n_features, k_classes)\n",
    "        self.weights = np.zeros((n_features, k_classes))\n",
    "        \n",
    "        # Initialize biases as a zero vector of shape (k_classes,)\n",
    "        self.biases = np.zeros(k_classes)\n",
    "\n",
    "    \n",
    "    def softmax(self, Z):\n",
    "        # Return the softmax output\n",
    "        return np.exp(Z) / np.sum(np.exp(Z), axis=1, keepdims=True)\n",
    "\n",
    "\n",
    "    def compute_cost(self, Y_hat, Y_one_hot):\n",
    "        # Get the number of samples\n",
    "        m = Y_one_hot.shape[0]\n",
    "\n",
    "        # Small epsilon value to prevent log(0)\n",
    "        epsilon = 1e-10\n",
    "\n",
    "        # Compute the cost using cross-entropy loss function\n",
    "        cost = - (1 / m) * np.sum(Y_one_hot * np.log(Y_hat + epsilon))\n",
    "        \n",
    "        return cost \n",
    "   \n",
    "\n",
    "    def fit(self, X, y):\n",
    "        # Get the shape of X\n",
    "        m, n = X.shape\n",
    "\n",
    "        # Get the total number of unique classes in y\n",
    "        k = len(np.unique(y))\n",
    "\n",
    "        # One-hot encoding for vectorized implementation\n",
    "        Y_one_hot = np.eye(k)[y]\n",
    "        \n",
    "        # Initialize parameters weights and biases\n",
    "        self.initialize_parameters(n, k)\n",
    "\n",
    "        # Run the gradient descent loop\n",
    "        for i in range(self.num_iterations):\n",
    "            # Forward propagation\n",
    "            Z = np.matmul(X, self.weights) + self.biases\n",
    "            Y_hat = self.softmax(Z)\n",
    "\n",
    "            # Compute cost\n",
    "            cost = self.compute_cost(Y_hat, Y_one_hot)\n",
    "            print(f\"Iteration {i + 1}/{self.num_iterations}: Cost {cost}\")\n",
    "\n",
    "            # Save cost at every 100 iterations\n",
    "            if (i + 1) % 100 == 0:\n",
    "                self.cost_history.append((i+1, cost))\n",
    "\n",
    "            # Compute gradients\n",
    "            dW = (1 / m) * np.matmul(X.T, (Y_hat - Y_one_hot))\n",
    "            db = (1 / m) * np.sum((Y_hat - Y_one_hot), axis=0)\n",
    "\n",
    "            # Update parameters\n",
    "            self.weights -= self.learning_rate * dW\n",
    "            self.biases -= self.learning_rate * db\n",
    "\n",
    "    \n",
    "    def predict(self, X):\n",
    "        # Compute the linear combination of input features and weights, plus biases\n",
    "        # Note: X can be polynomial features\n",
    "        Z = np.matmul(X, self.weights) + self.biases\n",
    "        \n",
    "        # Apply the softmax function to the linear combination\n",
    "        Y_hat = self.softmax(Z)\n",
    "        \n",
    "        # Return the index of the maximum probaility in each row of Y_hat\n",
    "        return np.argmax(Y_hat, axis=1)\n",
    "    \n",
    "\n",
    "    def evaluate_model(self, X, y):\n",
    "        # Predict the target values using the provided features\n",
    "        y_pred = self.predict(X)\n",
    "        \n",
    "        # Calculate the accuracy of the model\n",
    "        accuracy = accuracy_score(y, y_pred)\n",
    "        # Calculate the precision of the model\n",
    "        precision = precision_score(y, y_pred, average=\"weighted\")\n",
    "        # Calculate the recall of the model\n",
    "        recall = recall_score(y, y_pred, average=\"weighted\")\n",
    "        # Calculate the F1 score of the model\n",
    "        f1 = f1_score(y, y_pred, average=\"weighted\")\n",
    "\n",
    "        return accuracy, precision, recall, f1"
   ]
  },
  {
   "cell_type": "code",
   "execution_count": 8,
   "metadata": {},
   "outputs": [],
   "source": [
    "# Standardize the dataset\n",
    "scaler, X_train_scaled, X_val_scaled, X_test_scaled = standardize_dataset(X_train, X_val, X_test)"
   ]
  },
  {
   "cell_type": "code",
   "execution_count": 35,
   "metadata": {},
   "outputs": [
    {
     "name": "stdout",
     "output_type": "stream",
     "text": [
      "Iteration 1/1000: Cost 1.0986122883681098\n",
      "Iteration 2/1000: Cost 0.5682868017509506\n",
      "Iteration 3/1000: Cost 0.46041648364230336\n",
      "Iteration 4/1000: Cost 0.425842482563487\n",
      "Iteration 5/1000: Cost 0.40417337730229\n",
      "Iteration 6/1000: Cost 0.38903024415488197\n",
      "Iteration 7/1000: Cost 0.3778006873832341\n",
      "Iteration 8/1000: Cost 0.36912311243647794\n",
      "Iteration 9/1000: Cost 0.36221055450224016\n",
      "Iteration 10/1000: Cost 0.35657361431550316\n",
      "Iteration 11/1000: Cost 0.3518906309067311\n",
      "Iteration 12/1000: Cost 0.34794081475793637\n",
      "Iteration 13/1000: Cost 0.3445672184074419\n",
      "Iteration 14/1000: Cost 0.3416550121294961\n",
      "Iteration 15/1000: Cost 0.3391181243411838\n",
      "Iteration 16/1000: Cost 0.3368906974496641\n",
      "Iteration 17/1000: Cost 0.3349214389634937\n",
      "Iteration 18/1000: Cost 0.3331697788261672\n",
      "Iteration 19/1000: Cost 0.33160318995863175\n",
      "Iteration 20/1000: Cost 0.3301952789307131\n",
      "Iteration 21/1000: Cost 0.3289243990696909\n",
      "Iteration 22/1000: Cost 0.32777262570168597\n",
      "Iteration 23/1000: Cost 0.32672498728680166\n",
      "Iteration 24/1000: Cost 0.3257688805296159\n",
      "Iteration 25/1000: Cost 0.32489361984118736\n",
      "Iteration 26/1000: Cost 0.32409008631511177\n",
      "Iteration 27/1000: Cost 0.32335045137322654\n",
      "Iteration 28/1000: Cost 0.32266795710691965\n",
      "Iteration 29/1000: Cost 0.32203674013809136\n",
      "Iteration 30/1000: Cost 0.3214516892232812\n",
      "Iteration 31/1000: Cost 0.3209083292651708\n",
      "Iteration 32/1000: Cost 0.3204027261696453\n",
      "Iteration 33/1000: Cost 0.31993140829072725\n",
      "Iteration 34/1000: Cost 0.3194913011746246\n",
      "Iteration 35/1000: Cost 0.31907967304116397\n",
      "Iteration 36/1000: Cost 0.3186940889914517\n",
      "Iteration 37/1000: Cost 0.31833237235117495\n",
      "Iteration 38/1000: Cost 0.31799257188283314\n",
      "Iteration 39/1000: Cost 0.3176729338515163\n",
      "Iteration 40/1000: Cost 0.3173718781252916\n",
      "Iteration 41/1000: Cost 0.31708797764583935\n",
      "Iteration 42/1000: Cost 0.3168199407274163\n",
      "Iteration 43/1000: Cost 0.31656659573978013\n",
      "Iteration 44/1000: Cost 0.31632687780889945\n",
      "Iteration 45/1000: Cost 0.3160998172322806\n",
      "Iteration 46/1000: Cost 0.315884529356787\n",
      "Iteration 47/1000: Cost 0.3156802057083762\n",
      "Iteration 48/1000: Cost 0.3154861061971703\n",
      "Iteration 49/1000: Cost 0.31530155224920237\n",
      "Iteration 50/1000: Cost 0.31512592073922524\n",
      "Iteration 51/1000: Cost 0.3149586386180679\n",
      "Iteration 52/1000: Cost 0.31479917814390695\n",
      "Iteration 53/1000: Cost 0.3146470526400911\n",
      "Iteration 54/1000: Cost 0.3145018127132682\n",
      "Iteration 55/1000: Cost 0.3143630428749197\n",
      "Iteration 56/1000: Cost 0.31423035851729375\n",
      "Iteration 57/1000: Cost 0.31410340320140817\n",
      "Iteration 58/1000: Cost 0.3139818462204657\n",
      "Iteration 59/1000: Cost 0.31386538040685324\n",
      "Iteration 60/1000: Cost 0.3137537201550243\n",
      "Iteration 61/1000: Cost 0.31364659963609465\n",
      "Iteration 62/1000: Cost 0.3135437711830184\n",
      "Iteration 63/1000: Cost 0.3134450038278206\n",
      "Iteration 64/1000: Cost 0.313350081974622\n",
      "Iteration 65/1000: Cost 0.31325880419413776\n",
      "Iteration 66/1000: Cost 0.3131709821270273\n",
      "Iteration 67/1000: Cost 0.3130864394849408\n",
      "Iteration 68/1000: Cost 0.31300501113938856\n",
      "Iteration 69/1000: Cost 0.31292654228967964\n",
      "Iteration 70/1000: Cost 0.31285088770215014\n",
      "Iteration 71/1000: Cost 0.3127779110137615\n",
      "Iteration 72/1000: Cost 0.31270748409390015\n",
      "Iteration 73/1000: Cost 0.31263948645887113\n",
      "Iteration 74/1000: Cost 0.3125738047341625\n",
      "Iteration 75/1000: Cost 0.31251033216007196\n",
      "Iteration 76/1000: Cost 0.3124489681367407\n",
      "Iteration 77/1000: Cost 0.31238961780504604\n",
      "Iteration 78/1000: Cost 0.31233219166015747\n",
      "Iteration 79/1000: Cost 0.3122766051948835\n",
      "Iteration 80/1000: Cost 0.31222277857021546\n",
      "Iteration 81/1000: Cost 0.3121706363107285\n",
      "Iteration 82/1000: Cost 0.31212010702272475\n",
      "Iteration 83/1000: Cost 0.3120711231332036\n",
      "Iteration 84/1000: Cost 0.3120236206479259\n",
      "Iteration 85/1000: Cost 0.3119775389269967\n",
      "Iteration 86/1000: Cost 0.3119328204765406\n",
      "Iteration 87/1000: Cost 0.31188941075516885\n",
      "Iteration 88/1000: Cost 0.3118472579940568\n",
      "Iteration 89/1000: Cost 0.3118063130295565\n",
      "Iteration 90/1000: Cost 0.31176652914735986\n",
      "Iteration 91/1000: Cost 0.3117278619373198\n",
      "Iteration 92/1000: Cost 0.3116902691581075\n",
      "Iteration 93/1000: Cost 0.31165371061095964\n",
      "Iteration 94/1000: Cost 0.311618148021828\n",
      "Iteration 95/1000: Cost 0.31158354493130613\n",
      "Iteration 96/1000: Cost 0.31154986659175493\n",
      "Iteration 97/1000: Cost 0.31151707987110056\n",
      "Iteration 98/1000: Cost 0.3114851531628193\n",
      "Iteration 99/1000: Cost 0.3114540563016621\n",
      "Iteration 100/1000: Cost 0.31142376048471093\n",
      "Iteration 101/1000: Cost 0.3113942381973854\n",
      "Iteration 102/1000: Cost 0.3113654631440561\n",
      "Iteration 103/1000: Cost 0.31133741018294053\n",
      "Iteration 104/1000: Cost 0.31131005526498606\n",
      "Iteration 105/1000: Cost 0.31128337537646755\n",
      "Iteration 106/1000: Cost 0.31125734848504666\n",
      "Iteration 107/1000: Cost 0.31123195348905786\n",
      "Iteration 108/1000: Cost 0.311207170169807\n",
      "Iteration 109/1000: Cost 0.31118297914668075\n",
      "Iteration 110/1000: Cost 0.31115936183488324\n",
      "Iteration 111/1000: Cost 0.31113630040562495\n",
      "Iteration 112/1000: Cost 0.31111377774860843\n",
      "Iteration 113/1000: Cost 0.3110917774366595\n",
      "Iteration 114/1000: Cost 0.3110702836923682\n",
      "Iteration 115/1000: Cost 0.3110492813566112\n",
      "Iteration 116/1000: Cost 0.31102875585883727\n",
      "Iteration 117/1000: Cost 0.3110086931890051\n",
      "Iteration 118/1000: Cost 0.3109890798710704\n",
      "Iteration 119/1000: Cost 0.3109699029379269\n",
      "Iteration 120/1000: Cost 0.3109511499077122\n",
      "Iteration 121/1000: Cost 0.3109328087613944\n",
      "Iteration 122/1000: Cost 0.31091486792156275\n",
      "Iteration 123/1000: Cost 0.3108973162323498\n",
      "Iteration 124/1000: Cost 0.31088014294041666\n",
      "Iteration 125/1000: Cost 0.31086333767693924\n",
      "Iteration 126/1000: Cost 0.31084689044053615\n",
      "Iteration 127/1000: Cost 0.31083079158108196\n",
      "Iteration 128/1000: Cost 0.3108150317843564\n",
      "Iteration 129/1000: Cost 0.3107996020574786\n",
      "Iteration 130/1000: Cost 0.31078449371508354\n",
      "Iteration 131/1000: Cost 0.3107696983661966\n",
      "Iteration 132/1000: Cost 0.310755207901767\n",
      "Iteration 133/1000: Cost 0.3107410144828237\n",
      "Iteration 134/1000: Cost 0.3107271105292173\n",
      "Iteration 135/1000: Cost 0.3107134887089171\n",
      "Iteration 136/1000: Cost 0.31070014192783046\n",
      "Iteration 137/1000: Cost 0.3106870633201175\n",
      "Iteration 138/1000: Cost 0.3106742462389729\n",
      "Iteration 139/1000: Cost 0.3106616842478498\n",
      "Iteration 140/1000: Cost 0.3106493711121011\n",
      "Iteration 141/1000: Cost 0.3106373007910174\n",
      "Iteration 142/1000: Cost 0.31062546743023806\n",
      "Iteration 143/1000: Cost 0.310613865354517\n",
      "Iteration 144/1000: Cost 0.3106024890608248\n",
      "Iteration 145/1000: Cost 0.3105913332117675\n",
      "Iteration 146/1000: Cost 0.31058039262930764\n",
      "Iteration 147/1000: Cost 0.31056966228877037\n",
      "Iteration 148/1000: Cost 0.3105591373131206\n",
      "Iteration 149/1000: Cost 0.31054881296749715\n",
      "Iteration 150/1000: Cost 0.3105386846539902\n",
      "Iteration 151/1000: Cost 0.3105287479066503\n",
      "Iteration 152/1000: Cost 0.3105189983867172\n",
      "Iteration 153/1000: Cost 0.3105094318780566\n",
      "Iteration 154/1000: Cost 0.31050004428279576\n",
      "Iteration 155/1000: Cost 0.31049083161714686\n",
      "Iteration 156/1000: Cost 0.3104817900074092\n",
      "Iteration 157/1000: Cost 0.31047291568614216\n",
      "Iteration 158/1000: Cost 0.3104642049884988\n",
      "Iteration 159/1000: Cost 0.3104556543487149\n",
      "Iteration 160/1000: Cost 0.3104472602967427\n",
      "Iteration 161/1000: Cost 0.3104390194550257\n",
      "Iteration 162/1000: Cost 0.31043092853540477\n",
      "Iteration 163/1000: Cost 0.3104229843361516\n",
      "Iteration 164/1000: Cost 0.31041518373912236\n",
      "Iteration 165/1000: Cost 0.3104075237070255\n",
      "Iteration 166/1000: Cost 0.3104000012807997\n",
      "Iteration 167/1000: Cost 0.3103926135770958\n",
      "Iteration 168/1000: Cost 0.3103853577858577\n",
      "Iteration 169/1000: Cost 0.31037823116799906\n",
      "Iteration 170/1000: Cost 0.3103712310531695\n",
      "Iteration 171/1000: Cost 0.31036435483760777\n",
      "Iteration 172/1000: Cost 0.3103575999820774\n",
      "Iteration 173/1000: Cost 0.31035096400988077\n",
      "Iteration 174/1000: Cost 0.31034444450494864\n",
      "Iteration 175/1000: Cost 0.3103380391100015\n",
      "Iteration 176/1000: Cost 0.31033174552477955\n",
      "Iteration 177/1000: Cost 0.3103255615043383\n",
      "Iteration 178/1000: Cost 0.3103194848574075\n",
      "Iteration 179/1000: Cost 0.31031351344480895\n",
      "Iteration 180/1000: Cost 0.3103076451779331\n",
      "Iteration 181/1000: Cost 0.3103018780172696\n",
      "Iteration 182/1000: Cost 0.3102962099709913\n",
      "Iteration 183/1000: Cost 0.3102906390935877\n",
      "Iteration 184/1000: Cost 0.3102851634845475\n",
      "Iteration 185/1000: Cost 0.31027978128708733\n",
      "Iteration 186/1000: Cost 0.31027449068692375\n",
      "Iteration 187/1000: Cost 0.3102692899110892\n",
      "Iteration 188/1000: Cost 0.3102641772267875\n",
      "Iteration 189/1000: Cost 0.31025915094028883\n",
      "Iteration 190/1000: Cost 0.31025420939586235\n",
      "Iteration 191/1000: Cost 0.310249350974744\n",
      "Iteration 192/1000: Cost 0.31024457409413975\n",
      "Iteration 193/1000: Cost 0.3102398772062612\n",
      "Iteration 194/1000: Cost 0.31023525879739317\n",
      "Iteration 195/1000: Cost 0.3102307173869918\n",
      "Iteration 196/1000: Cost 0.31022625152681227\n",
      "Iteration 197/1000: Cost 0.3102218598000639\n",
      "Iteration 198/1000: Cost 0.310217540820593\n",
      "Iteration 199/1000: Cost 0.31021329323209157\n",
      "Iteration 200/1000: Cost 0.31020911570733123\n",
      "Iteration 201/1000: Cost 0.3102050069474204\n",
      "Iteration 202/1000: Cost 0.3102009656810857\n",
      "Iteration 203/1000: Cost 0.31019699066397477\n",
      "Iteration 204/1000: Cost 0.3101930806779812\n",
      "Iteration 205/1000: Cost 0.31018923453058944\n",
      "Iteration 206/1000: Cost 0.31018545105424034\n",
      "Iteration 207/1000: Cost 0.3101817291057152\n",
      "Iteration 208/1000: Cost 0.31017806756553845\n",
      "Iteration 209/1000: Cost 0.31017446533739856\n",
      "Iteration 210/1000: Cost 0.31017092134758506\n",
      "Iteration 211/1000: Cost 0.3101674345444434\n",
      "Iteration 212/1000: Cost 0.31016400389784465\n",
      "Iteration 213/1000: Cost 0.31016062839867115\n",
      "Iteration 214/1000: Cost 0.3101573070583167\n",
      "Iteration 215/1000: Cost 0.3101540389082014\n",
      "Iteration 216/1000: Cost 0.3101508229993001\n",
      "Iteration 217/1000: Cost 0.3101476584016838\n",
      "Iteration 218/1000: Cost 0.31014454420407483\n",
      "Iteration 219/1000: Cost 0.31014147951341364\n",
      "Iteration 220/1000: Cost 0.31013846345443813\n",
      "Iteration 221/1000: Cost 0.3101354951692742\n",
      "Iteration 222/1000: Cost 0.31013257381703796\n",
      "Iteration 223/1000: Cost 0.31012969857344824\n",
      "Iteration 224/1000: Cost 0.3101268686304502\n",
      "Iteration 225/1000: Cost 0.31012408319584883\n",
      "Iteration 226/1000: Cost 0.31012134149295195\n",
      "Iteration 227/1000: Cost 0.3101186427602234\n",
      "Iteration 228/1000: Cost 0.31011598625094466\n",
      "Iteration 229/1000: Cost 0.310113371232886\n",
      "Iteration 230/1000: Cost 0.31011079698798616\n",
      "Iteration 231/1000: Cost 0.3101082628120396\n",
      "Iteration 232/1000: Cost 0.3101057680143934\n",
      "Iteration 233/1000: Cost 0.31010331191765006\n",
      "Iteration 234/1000: Cost 0.3101008938573795\n",
      "Iteration 235/1000: Cost 0.31009851318183784\n",
      "Iteration 236/1000: Cost 0.3100961692516929\n",
      "Iteration 237/1000: Cost 0.3100938614397573\n",
      "Iteration 238/1000: Cost 0.31009158913072776\n",
      "Iteration 239/1000: Cost 0.31008935172093116\n",
      "Iteration 240/1000: Cost 0.310087148618077\n",
      "Iteration 241/1000: Cost 0.3100849792410156\n",
      "Iteration 242/1000: Cost 0.31008284301950256\n",
      "Iteration 243/1000: Cost 0.3100807393939689\n",
      "Iteration 244/1000: Cost 0.3100786678152971\n",
      "Iteration 245/1000: Cost 0.31007662774460165\n",
      "Iteration 246/1000: Cost 0.31007461865301594\n",
      "Iteration 247/1000: Cost 0.31007264002148377\n",
      "Iteration 248/1000: Cost 0.31007069134055615\n",
      "Iteration 249/1000: Cost 0.3100687721101922\n",
      "Iteration 250/1000: Cost 0.3100668818395655\n",
      "Iteration 251/1000: Cost 0.3100650200468751\n",
      "Iteration 252/1000: Cost 0.31006318625916013\n",
      "Iteration 253/1000: Cost 0.3100613800121197\n",
      "Iteration 254/1000: Cost 0.3100596008499362\n",
      "Iteration 255/1000: Cost 0.3100578483251033\n",
      "Iteration 256/1000: Cost 0.31005612199825766\n",
      "Iteration 257/1000: Cost 0.31005442143801437\n",
      "Iteration 258/1000: Cost 0.3100527462208065\n",
      "Iteration 259/1000: Cost 0.31005109593072777\n",
      "Iteration 260/1000: Cost 0.31004947015937995\n",
      "Iteration 261/1000: Cost 0.3100478685057218\n",
      "Iteration 262/1000: Cost 0.3100462905759237\n",
      "Iteration 263/1000: Cost 0.3100447359832232\n",
      "Iteration 264/1000: Cost 0.3100432043477861\n",
      "Iteration 265/1000: Cost 0.3100416952965685\n",
      "Iteration 266/1000: Cost 0.3100402084631838\n",
      "Iteration 267/1000: Cost 0.31003874348777116\n",
      "Iteration 268/1000: Cost 0.3100373000168678\n",
      "Iteration 269/1000: Cost 0.3100358777032834\n",
      "Iteration 270/1000: Cost 0.310034476205978\n",
      "Iteration 271/1000: Cost 0.3100330951899422\n",
      "Iteration 272/1000: Cost 0.3100317343260796\n",
      "Iteration 273/1000: Cost 0.3100303932910924\n",
      "Iteration 274/1000: Cost 0.3100290717673692\n",
      "Iteration 275/1000: Cost 0.3100277694428752\n",
      "Iteration 276/1000: Cost 0.31002648601104466\n",
      "Iteration 277/1000: Cost 0.31002522117067616\n",
      "Iteration 278/1000: Cost 0.31002397462582926\n",
      "Iteration 279/1000: Cost 0.31002274608572417\n",
      "Iteration 280/1000: Cost 0.31002153526464304\n",
      "Iteration 281/1000: Cost 0.31002034188183375\n",
      "Iteration 282/1000: Cost 0.3100191656614151\n",
      "Iteration 283/1000: Cost 0.3100180063322843\n",
      "Iteration 284/1000: Cost 0.3100168636280274\n",
      "Iteration 285/1000: Cost 0.3100157372868294\n",
      "Iteration 286/1000: Cost 0.3100146270513883\n",
      "Iteration 287/1000: Cost 0.3100135326688302\n",
      "Iteration 288/1000: Cost 0.3100124538906253\n",
      "Iteration 289/1000: Cost 0.3100113904725074\n",
      "Iteration 290/1000: Cost 0.3100103421743936\n",
      "Iteration 291/1000: Cost 0.310009308760306\n",
      "Iteration 292/1000: Cost 0.31000828999829566\n",
      "Iteration 293/1000: Cost 0.31000728566036706\n",
      "Iteration 294/1000: Cost 0.31000629552240505\n",
      "Iteration 295/1000: Cost 0.31000531936410275\n",
      "Iteration 296/1000: Cost 0.310004356968891\n",
      "Iteration 297/1000: Cost 0.31000340812386923\n",
      "Iteration 298/1000: Cost 0.3100024726197382\n",
      "Iteration 299/1000: Cost 0.31000155025073306\n",
      "Iteration 300/1000: Cost 0.31000064081455897\n",
      "Iteration 301/1000: Cost 0.3099997441123271\n",
      "Iteration 302/1000: Cost 0.30999885994849213\n",
      "Iteration 303/1000: Cost 0.30999798813079155\n",
      "Iteration 304/1000: Cost 0.3099971284701854\n",
      "Iteration 305/1000: Cost 0.30999628078079744\n",
      "Iteration 306/1000: Cost 0.3099954448798579\n",
      "Iteration 307/1000: Cost 0.3099946205876469\n",
      "Iteration 308/1000: Cost 0.30999380772743906\n",
      "Iteration 309/1000: Cost 0.3099930061254494\n",
      "Iteration 310/1000: Cost 0.3099922156107801\n",
      "Iteration 311/1000: Cost 0.30999143601536844\n",
      "Iteration 312/1000: Cost 0.30999066717393575\n",
      "Iteration 313/1000: Cost 0.30998990892393724\n",
      "Iteration 314/1000: Cost 0.3099891611055129\n",
      "Iteration 315/1000: Cost 0.3099884235614395\n",
      "Iteration 316/1000: Cost 0.309987696137083\n",
      "Iteration 317/1000: Cost 0.3099869786803527\n",
      "Iteration 318/1000: Cost 0.3099862710416556\n",
      "Iteration 319/1000: Cost 0.3099855730738519\n",
      "Iteration 320/1000: Cost 0.30998488463221124\n",
      "Iteration 321/1000: Cost 0.3099842055743702\n",
      "Iteration 322/1000: Cost 0.3099835357602899\n",
      "Iteration 323/1000: Cost 0.3099828750522151\n",
      "Iteration 324/1000: Cost 0.30998222331463365\n",
      "Iteration 325/1000: Cost 0.3099815804142369\n",
      "Iteration 326/1000: Cost 0.3099809462198808\n",
      "Iteration 327/1000: Cost 0.3099803206025479\n",
      "Iteration 328/1000: Cost 0.30997970343530973\n",
      "Iteration 329/1000: Cost 0.3099790945932902\n",
      "Iteration 330/1000: Cost 0.3099784939536298\n",
      "Iteration 331/1000: Cost 0.30997790139545006\n",
      "Iteration 332/1000: Cost 0.3099773167998186\n",
      "Iteration 333/1000: Cost 0.3099767400497159\n",
      "Iteration 334/1000: Cost 0.30997617103000147\n",
      "Iteration 335/1000: Cost 0.3099756096273809\n",
      "Iteration 336/1000: Cost 0.3099750557303743\n",
      "Iteration 337/1000: Cost 0.3099745092292843\n",
      "Iteration 338/1000: Cost 0.3099739700161657\n",
      "Iteration 339/1000: Cost 0.3099734379847943\n",
      "Iteration 340/1000: Cost 0.30997291303063795\n",
      "Iteration 341/1000: Cost 0.3099723950508268\n",
      "Iteration 342/1000: Cost 0.30997188394412495\n",
      "Iteration 343/1000: Cost 0.3099713796109021\n",
      "Iteration 344/1000: Cost 0.30997088195310574\n",
      "Iteration 345/1000: Cost 0.30997039087423484\n",
      "Iteration 346/1000: Cost 0.3099699062793121\n",
      "Iteration 347/1000: Cost 0.3099694280748589\n",
      "Iteration 348/1000: Cost 0.3099689561688689\n",
      "Iteration 349/1000: Cost 0.3099684904707832\n",
      "Iteration 350/1000: Cost 0.3099680308914657\n",
      "Iteration 351/1000: Cost 0.30996757734317876\n",
      "Iteration 352/1000: Cost 0.30996712973955937\n",
      "Iteration 353/1000: Cost 0.30996668799559585\n",
      "Iteration 354/1000: Cost 0.3099662520276048\n",
      "Iteration 355/1000: Cost 0.3099658217532087\n",
      "Iteration 356/1000: Cost 0.3099653970913139\n",
      "Iteration 357/1000: Cost 0.3099649779620885\n",
      "Iteration 358/1000: Cost 0.3099645642869415\n",
      "Iteration 359/1000: Cost 0.30996415598850185\n",
      "Iteration 360/1000: Cost 0.3099637529905973\n",
      "Iteration 361/1000: Cost 0.3099633552182352\n",
      "Iteration 362/1000: Cost 0.3099629625975817\n",
      "Iteration 363/1000: Cost 0.3099625750559432\n",
      "Iteration 364/1000: Cost 0.30996219252174645\n",
      "Iteration 365/1000: Cost 0.3099618149245204\n",
      "Iteration 366/1000: Cost 0.3099614421948774\n",
      "Iteration 367/1000: Cost 0.3099610742644956\n",
      "Iteration 368/1000: Cost 0.30996071106610035\n",
      "Iteration 369/1000: Cost 0.3099603525334477\n",
      "Iteration 370/1000: Cost 0.3099599986013067\n",
      "Iteration 371/1000: Cost 0.30995964920544256\n",
      "Iteration 372/1000: Cost 0.3099593042826005\n",
      "Iteration 373/1000: Cost 0.30995896377048915\n",
      "Iteration 374/1000: Cost 0.3099586276077648\n",
      "Iteration 375/1000: Cost 0.30995829573401584\n",
      "Iteration 376/1000: Cost 0.30995796808974696\n",
      "Iteration 377/1000: Cost 0.3099576446163647\n",
      "Iteration 378/1000: Cost 0.3099573252561618\n",
      "Iteration 379/1000: Cost 0.30995700995230346\n",
      "Iteration 380/1000: Cost 0.3099566986488126\n",
      "Iteration 381/1000: Cost 0.30995639129055547\n",
      "Iteration 382/1000: Cost 0.30995608782322853\n",
      "Iteration 383/1000: Cost 0.3099557881933445\n",
      "Iteration 384/1000: Cost 0.309955492348219\n",
      "Iteration 385/1000: Cost 0.3099552002359576\n",
      "Iteration 386/1000: Cost 0.3099549118054426\n",
      "Iteration 387/1000: Cost 0.30995462700632104\n",
      "Iteration 388/1000: Cost 0.3099543457889916\n",
      "Iteration 389/1000: Cost 0.3099540681045928\n",
      "Iteration 390/1000: Cost 0.3099537939049909\n",
      "Iteration 391/1000: Cost 0.30995352314276803\n",
      "Iteration 392/1000: Cost 0.3099532557712109\n",
      "Iteration 393/1000: Cost 0.3099529917442988\n",
      "Iteration 394/1000: Cost 0.3099527310166933\n",
      "Iteration 395/1000: Cost 0.30995247354372657\n",
      "Iteration 396/1000: Cost 0.30995221928139083\n",
      "Iteration 397/1000: Cost 0.30995196818632764\n",
      "Iteration 398/1000: Cost 0.30995172021581774\n",
      "Iteration 399/1000: Cost 0.3099514753277707\n",
      "Iteration 400/1000: Cost 0.30995123348071446\n",
      "Iteration 401/1000: Cost 0.30995099463378595\n",
      "Iteration 402/1000: Cost 0.30995075874672134\n",
      "Iteration 403/1000: Cost 0.30995052577984605\n",
      "Iteration 404/1000: Cost 0.3099502956940658\n",
      "Iteration 405/1000: Cost 0.3099500684508572\n",
      "Iteration 406/1000: Cost 0.30994984401225856\n",
      "Iteration 407/1000: Cost 0.3099496223408613\n",
      "Iteration 408/1000: Cost 0.3099494033998008\n",
      "Iteration 409/1000: Cost 0.3099491871527481\n",
      "Iteration 410/1000: Cost 0.30994897356390144\n",
      "Iteration 411/1000: Cost 0.3099487625979774\n",
      "Iteration 412/1000: Cost 0.3099485542202035\n",
      "Iteration 413/1000: Cost 0.30994834839630964\n",
      "Iteration 414/1000: Cost 0.3099481450925203\n",
      "Iteration 415/1000: Cost 0.3099479442755469\n",
      "Iteration 416/1000: Cost 0.30994774591258006\n",
      "Iteration 417/1000: Cost 0.30994754997128193\n",
      "Iteration 418/1000: Cost 0.30994735641977916\n",
      "Iteration 419/1000: Cost 0.3099471652266553\n",
      "Iteration 420/1000: Cost 0.309946976360944\n",
      "Iteration 421/1000: Cost 0.3099467897921216\n",
      "Iteration 422/1000: Cost 0.3099466054901006\n",
      "Iteration 423/1000: Cost 0.3099464234252226\n",
      "Iteration 424/1000: Cost 0.3099462435682518\n",
      "Iteration 425/1000: Cost 0.3099460658903684\n",
      "Iteration 426/1000: Cost 0.30994589036316217\n",
      "Iteration 427/1000: Cost 0.30994571695862594\n",
      "Iteration 428/1000: Cost 0.30994554564914967\n",
      "Iteration 429/1000: Cost 0.30994537640751413\n",
      "Iteration 430/1000: Cost 0.3099452092068848\n",
      "Iteration 431/1000: Cost 0.3099450440208062\n",
      "Iteration 432/1000: Cost 0.3099448808231958\n",
      "Iteration 433/1000: Cost 0.3099447195883384\n",
      "Iteration 434/1000: Cost 0.3099445602908806\n",
      "Iteration 435/1000: Cost 0.3099444029058251\n",
      "Iteration 436/1000: Cost 0.30994424740852505\n",
      "Iteration 437/1000: Cost 0.30994409377467946\n",
      "Iteration 438/1000: Cost 0.30994394198032693\n",
      "Iteration 439/1000: Cost 0.30994379200184113\n",
      "Iteration 440/1000: Cost 0.30994364381592554\n",
      "Iteration 441/1000: Cost 0.30994349739960836\n",
      "Iteration 442/1000: Cost 0.3099433527302376\n",
      "Iteration 443/1000: Cost 0.30994320978547635\n",
      "Iteration 444/1000: Cost 0.3099430685432976\n",
      "Iteration 445/1000: Cost 0.30994292898198045\n",
      "Iteration 446/1000: Cost 0.30994279108010436\n",
      "Iteration 447/1000: Cost 0.3099426548165452\n",
      "Iteration 448/1000: Cost 0.309942520170471\n",
      "Iteration 449/1000: Cost 0.30994238712133715\n",
      "Iteration 450/1000: Cost 0.30994225564888206\n",
      "Iteration 451/1000: Cost 0.3099421257331233\n",
      "Iteration 452/1000: Cost 0.3099419973543529\n",
      "Iteration 453/1000: Cost 0.3099418704931337\n",
      "Iteration 454/1000: Cost 0.3099417451302952\n",
      "Iteration 455/1000: Cost 0.3099416212469292\n",
      "Iteration 456/1000: Cost 0.3099414988243864\n",
      "Iteration 457/1000: Cost 0.30994137784427206\n",
      "Iteration 458/1000: Cost 0.30994125828844277\n",
      "Iteration 459/1000: Cost 0.3099411401390022\n",
      "Iteration 460/1000: Cost 0.3099410233782976\n",
      "Iteration 461/1000: Cost 0.30994090798891644\n",
      "Iteration 462/1000: Cost 0.30994079395368235\n",
      "Iteration 463/1000: Cost 0.3099406812556521\n",
      "Iteration 464/1000: Cost 0.30994056987811186\n",
      "Iteration 465/1000: Cost 0.30994045980457396\n",
      "Iteration 466/1000: Cost 0.3099403510187736\n",
      "Iteration 467/1000: Cost 0.3099402435046652\n",
      "Iteration 468/1000: Cost 0.30994013724641983\n",
      "Iteration 469/1000: Cost 0.3099400322284214\n",
      "Iteration 470/1000: Cost 0.309939928435264\n",
      "Iteration 471/1000: Cost 0.30993982585174834\n",
      "Iteration 472/1000: Cost 0.30993972446287926\n",
      "Iteration 473/1000: Cost 0.3099396242538624\n",
      "Iteration 474/1000: Cost 0.30993952521010126\n",
      "Iteration 475/1000: Cost 0.30993942731719476\n",
      "Iteration 476/1000: Cost 0.30993933056093365\n",
      "Iteration 477/1000: Cost 0.30993923492729836\n",
      "Iteration 478/1000: Cost 0.309939140402456\n",
      "Iteration 479/1000: Cost 0.30993904697275765\n",
      "Iteration 480/1000: Cost 0.30993895462473564\n",
      "Iteration 481/1000: Cost 0.3099388633451012\n",
      "Iteration 482/1000: Cost 0.3099387731207414\n",
      "Iteration 483/1000: Cost 0.3099386839387172\n",
      "Iteration 484/1000: Cost 0.30993859578626043\n",
      "Iteration 485/1000: Cost 0.3099385086507716\n",
      "Iteration 486/1000: Cost 0.30993842251981735\n",
      "Iteration 487/1000: Cost 0.30993833738112836\n",
      "Iteration 488/1000: Cost 0.3099382532225965\n",
      "Iteration 489/1000: Cost 0.3099381700322729\n",
      "Iteration 490/1000: Cost 0.3099380877983657\n",
      "Iteration 491/1000: Cost 0.3099380065092373\n",
      "Iteration 492/1000: Cost 0.30993792615340304\n",
      "Iteration 493/1000: Cost 0.3099378467195281\n",
      "Iteration 494/1000: Cost 0.30993776819642593\n",
      "Iteration 495/1000: Cost 0.3099376905730561\n",
      "Iteration 496/1000: Cost 0.309937613838522\n",
      "Iteration 497/1000: Cost 0.3099375379820688\n",
      "Iteration 498/1000: Cost 0.30993746299308184\n",
      "Iteration 499/1000: Cost 0.3099373888610843\n",
      "Iteration 500/1000: Cost 0.3099373155757351\n",
      "Iteration 501/1000: Cost 0.3099372431268275\n",
      "Iteration 502/1000: Cost 0.30993717150428685\n",
      "Iteration 503/1000: Cost 0.3099371006981686\n",
      "Iteration 504/1000: Cost 0.30993703069865697\n",
      "Iteration 505/1000: Cost 0.3099369614960626\n",
      "Iteration 506/1000: Cost 0.3099368930808212\n",
      "Iteration 507/1000: Cost 0.3099368254434916\n",
      "Iteration 508/1000: Cost 0.3099367585747539\n",
      "Iteration 509/1000: Cost 0.30993669246540817\n",
      "Iteration 510/1000: Cost 0.30993662710637226\n",
      "Iteration 511/1000: Cost 0.30993656248868073\n",
      "Iteration 512/1000: Cost 0.30993649860348266\n",
      "Iteration 513/1000: Cost 0.3099364354420406\n",
      "Iteration 514/1000: Cost 0.30993637299572846\n",
      "Iteration 515/1000: Cost 0.30993631125603033\n",
      "Iteration 516/1000: Cost 0.309936250214539\n",
      "Iteration 517/1000: Cost 0.3099361898629541\n",
      "Iteration 518/1000: Cost 0.3099361301930811\n",
      "Iteration 519/1000: Cost 0.30993607119682914\n",
      "Iteration 520/1000: Cost 0.3099360128662106\n",
      "Iteration 521/1000: Cost 0.3099359551933387\n",
      "Iteration 522/1000: Cost 0.3099358981704268\n",
      "Iteration 523/1000: Cost 0.30993584178978667\n",
      "Iteration 524/1000: Cost 0.3099357860438272\n",
      "Iteration 525/1000: Cost 0.3099357309250533\n",
      "Iteration 526/1000: Cost 0.3099356764260641\n",
      "Iteration 527/1000: Cost 0.30993562253955215\n",
      "Iteration 528/1000: Cost 0.30993556925830207\n",
      "Iteration 529/1000: Cost 0.30993551657518886\n",
      "Iteration 530/1000: Cost 0.3099354644831773\n",
      "Iteration 531/1000: Cost 0.30993541297532035\n",
      "Iteration 532/1000: Cost 0.3099353620447578\n",
      "Iteration 533/1000: Cost 0.3099353116847156\n",
      "Iteration 534/1000: Cost 0.3099352618885043\n",
      "Iteration 535/1000: Cost 0.30993521264951807\n",
      "Iteration 536/1000: Cost 0.30993516396123333\n",
      "Iteration 537/1000: Cost 0.3099351158172082\n",
      "Iteration 538/1000: Cost 0.3099350682110805\n",
      "Iteration 539/1000: Cost 0.30993502113656773\n",
      "Iteration 540/1000: Cost 0.30993497458746516\n",
      "Iteration 541/1000: Cost 0.3099349285576452\n",
      "Iteration 542/1000: Cost 0.30993488304105626\n",
      "Iteration 543/1000: Cost 0.3099348380317216\n",
      "Iteration 544/1000: Cost 0.30993479352373876\n",
      "Iteration 545/1000: Cost 0.309934749511278\n",
      "Iteration 546/1000: Cost 0.30993470598858164\n",
      "Iteration 547/1000: Cost 0.30993466294996314\n",
      "Iteration 548/1000: Cost 0.3099346203898061\n",
      "Iteration 549/1000: Cost 0.30993457830256327\n",
      "Iteration 550/1000: Cost 0.3099345366827555\n",
      "Iteration 551/1000: Cost 0.3099344955249712\n",
      "Iteration 552/1000: Cost 0.30993445482386517\n",
      "Iteration 553/1000: Cost 0.3099344145741579\n",
      "Iteration 554/1000: Cost 0.30993437477063424\n",
      "Iteration 555/1000: Cost 0.30993433540814336\n",
      "Iteration 556/1000: Cost 0.3099342964815971\n",
      "Iteration 557/1000: Cost 0.3099342579859697\n",
      "Iteration 558/1000: Cost 0.30993421991629666\n",
      "Iteration 559/1000: Cost 0.309934182267674\n",
      "Iteration 560/1000: Cost 0.3099341450352578\n",
      "Iteration 561/1000: Cost 0.3099341082142626\n",
      "Iteration 562/1000: Cost 0.30993407179996174\n",
      "Iteration 563/1000: Cost 0.30993403578768536\n",
      "Iteration 564/1000: Cost 0.30993400017282097\n",
      "Iteration 565/1000: Cost 0.3099339649508116\n",
      "Iteration 566/1000: Cost 0.3099339301171556\n",
      "Iteration 567/1000: Cost 0.30993389566740587\n",
      "Iteration 568/1000: Cost 0.3099338615971691\n",
      "Iteration 569/1000: Cost 0.30993382790210505\n",
      "Iteration 570/1000: Cost 0.3099337945779259\n",
      "Iteration 571/1000: Cost 0.3099337616203956\n",
      "Iteration 572/1000: Cost 0.3099337290253291\n",
      "Iteration 573/1000: Cost 0.3099336967885918\n",
      "Iteration 574/1000: Cost 0.30993366490609875\n",
      "Iteration 575/1000: Cost 0.3099336333738143\n",
      "Iteration 576/1000: Cost 0.309933602187751\n",
      "Iteration 577/1000: Cost 0.30993357134396954\n",
      "Iteration 578/1000: Cost 0.30993354083857755\n",
      "Iteration 579/1000: Cost 0.30993351066772956\n",
      "Iteration 580/1000: Cost 0.30993348082762595\n",
      "Iteration 581/1000: Cost 0.30993345131451255\n",
      "Iteration 582/1000: Cost 0.30993342212468017\n",
      "Iteration 583/1000: Cost 0.3099333932544637\n",
      "Iteration 584/1000: Cost 0.3099333647002419\n",
      "Iteration 585/1000: Cost 0.3099333364584366\n",
      "Iteration 586/1000: Cost 0.30993330852551243\n",
      "Iteration 587/1000: Cost 0.3099332808979758\n",
      "Iteration 588/1000: Cost 0.3099332535723747\n",
      "Iteration 589/1000: Cost 0.3099332265452983\n",
      "Iteration 590/1000: Cost 0.3099331998133761\n",
      "Iteration 591/1000: Cost 0.3099331733732777\n",
      "Iteration 592/1000: Cost 0.3099331472217119\n",
      "Iteration 593/1000: Cost 0.3099331213554268\n",
      "Iteration 594/1000: Cost 0.30993309577120864\n",
      "Iteration 595/1000: Cost 0.3099330704658818\n",
      "Iteration 596/1000: Cost 0.30993304543630823\n",
      "Iteration 597/1000: Cost 0.30993302067938683\n",
      "Iteration 598/1000: Cost 0.309932996192053\n",
      "Iteration 599/1000: Cost 0.30993297197127834\n",
      "Iteration 600/1000: Cost 0.30993294801407\n",
      "Iteration 601/1000: Cost 0.30993292431747055\n",
      "Iteration 602/1000: Cost 0.309932900878557\n",
      "Iteration 603/1000: Cost 0.30993287769444094\n",
      "Iteration 604/1000: Cost 0.30993285476226773\n",
      "Iteration 605/1000: Cost 0.30993283207921624\n",
      "Iteration 606/1000: Cost 0.3099328096424983\n",
      "Iteration 607/1000: Cost 0.3099327874493587\n",
      "Iteration 608/1000: Cost 0.30993276549707394\n",
      "Iteration 609/1000: Cost 0.3099327437829529\n",
      "Iteration 610/1000: Cost 0.30993272230433544\n",
      "Iteration 611/1000: Cost 0.3099327010585928\n",
      "Iteration 612/1000: Cost 0.30993268004312663\n",
      "Iteration 613/1000: Cost 0.30993265925536906\n",
      "Iteration 614/1000: Cost 0.3099326386927821\n",
      "Iteration 615/1000: Cost 0.3099326183528571\n",
      "Iteration 616/1000: Cost 0.3099325982331148\n",
      "Iteration 617/1000: Cost 0.30993257833110466\n",
      "Iteration 618/1000: Cost 0.30993255864440455\n",
      "Iteration 619/1000: Cost 0.30993253917062064\n",
      "Iteration 620/1000: Cost 0.30993251990738646\n",
      "Iteration 621/1000: Cost 0.30993250085236346\n",
      "Iteration 622/1000: Cost 0.30993248200323975\n",
      "Iteration 623/1000: Cost 0.3099324633577305\n",
      "Iteration 624/1000: Cost 0.309932444913577\n",
      "Iteration 625/1000: Cost 0.3099324266685469\n",
      "Iteration 626/1000: Cost 0.30993240862043353\n",
      "Iteration 627/1000: Cost 0.30993239076705553\n",
      "Iteration 628/1000: Cost 0.309932373106257\n",
      "Iteration 629/1000: Cost 0.3099323556359065\n",
      "Iteration 630/1000: Cost 0.3099323383538975\n",
      "Iteration 631/1000: Cost 0.30993232125814746\n",
      "Iteration 632/1000: Cost 0.3099323043465979\n",
      "Iteration 633/1000: Cost 0.30993228761721386\n",
      "Iteration 634/1000: Cost 0.3099322710679841\n",
      "Iteration 635/1000: Cost 0.30993225469691993\n",
      "Iteration 636/1000: Cost 0.3099322385020559\n",
      "Iteration 637/1000: Cost 0.3099322224814488\n",
      "Iteration 638/1000: Cost 0.309932206633178\n",
      "Iteration 639/1000: Cost 0.3099321909553444\n",
      "Iteration 640/1000: Cost 0.30993217544607105\n",
      "Iteration 641/1000: Cost 0.3099321601035023\n",
      "Iteration 642/1000: Cost 0.3099321449258035\n",
      "Iteration 643/1000: Cost 0.30993212991116126\n",
      "Iteration 644/1000: Cost 0.30993211505778273\n",
      "Iteration 645/1000: Cost 0.30993210036389546\n",
      "Iteration 646/1000: Cost 0.3099320858277473\n",
      "Iteration 647/1000: Cost 0.30993207144760593\n",
      "Iteration 648/1000: Cost 0.3099320572217588\n",
      "Iteration 649/1000: Cost 0.30993204314851286\n",
      "Iteration 650/1000: Cost 0.30993202922619434\n",
      "Iteration 651/1000: Cost 0.30993201545314847\n",
      "Iteration 652/1000: Cost 0.3099320018277391\n",
      "Iteration 653/1000: Cost 0.3099319883483488\n",
      "Iteration 654/1000: Cost 0.3099319750133785\n",
      "Iteration 655/1000: Cost 0.30993196182124716\n",
      "Iteration 656/1000: Cost 0.3099319487703917\n",
      "Iteration 657/1000: Cost 0.30993193585926665\n",
      "Iteration 658/1000: Cost 0.3099319230863442\n",
      "Iteration 659/1000: Cost 0.3099319104501137\n",
      "Iteration 660/1000: Cost 0.30993189794908144\n",
      "Iteration 661/1000: Cost 0.30993188558177076\n",
      "Iteration 662/1000: Cost 0.3099318733467217\n",
      "Iteration 663/1000: Cost 0.3099318612424905\n",
      "Iteration 664/1000: Cost 0.3099318492676501\n",
      "Iteration 665/1000: Cost 0.3099318374207891\n",
      "Iteration 666/1000: Cost 0.3099318257005121\n",
      "Iteration 667/1000: Cost 0.30993181410543963\n",
      "Iteration 668/1000: Cost 0.30993180263420744\n",
      "Iteration 669/1000: Cost 0.3099317912854669\n",
      "Iteration 670/1000: Cost 0.30993178005788424\n",
      "Iteration 671/1000: Cost 0.3099317689501409\n",
      "Iteration 672/1000: Cost 0.309931757960933\n",
      "Iteration 673/1000: Cost 0.30993174708897125\n",
      "Iteration 674/1000: Cost 0.309931736332981\n",
      "Iteration 675/1000: Cost 0.3099317256917017\n",
      "Iteration 676/1000: Cost 0.30993171516388696\n",
      "Iteration 677/1000: Cost 0.3099317047483044\n",
      "Iteration 678/1000: Cost 0.30993169444373536\n",
      "Iteration 679/1000: Cost 0.3099316842489749\n",
      "Iteration 680/1000: Cost 0.30993167416283135\n",
      "Iteration 681/1000: Cost 0.30993166418412654\n",
      "Iteration 682/1000: Cost 0.3099316543116955\n",
      "Iteration 683/1000: Cost 0.309931644544386\n",
      "Iteration 684/1000: Cost 0.309931634881059\n",
      "Iteration 685/1000: Cost 0.30993162532058777\n",
      "Iteration 686/1000: Cost 0.3099316158618586\n",
      "Iteration 687/1000: Cost 0.30993160650376966\n",
      "Iteration 688/1000: Cost 0.3099315972452318\n",
      "Iteration 689/1000: Cost 0.3099315880851678\n",
      "Iteration 690/1000: Cost 0.30993157902251245\n",
      "Iteration 691/1000: Cost 0.30993157005621247\n",
      "Iteration 692/1000: Cost 0.30993156118522613\n",
      "Iteration 693/1000: Cost 0.30993155240852327\n",
      "Iteration 694/1000: Cost 0.30993154372508536\n",
      "Iteration 695/1000: Cost 0.309931535133905\n",
      "Iteration 696/1000: Cost 0.309931526633986\n",
      "Iteration 697/1000: Cost 0.3099315182243432\n",
      "Iteration 698/1000: Cost 0.30993150990400237\n",
      "Iteration 699/1000: Cost 0.3099315016720001\n",
      "Iteration 700/1000: Cost 0.30993149352738364\n",
      "Iteration 701/1000: Cost 0.3099314854692106\n",
      "Iteration 702/1000: Cost 0.3099314774965495\n",
      "Iteration 703/1000: Cost 0.3099314696084784\n",
      "Iteration 704/1000: Cost 0.30993146180408626\n",
      "Iteration 705/1000: Cost 0.30993145408247175\n",
      "Iteration 706/1000: Cost 0.30993144644274345\n",
      "Iteration 707/1000: Cost 0.30993143888402\n",
      "Iteration 708/1000: Cost 0.3099314314054297\n",
      "Iteration 709/1000: Cost 0.30993142400611023\n",
      "Iteration 710/1000: Cost 0.309931416685209\n",
      "Iteration 711/1000: Cost 0.30993140944188274\n",
      "Iteration 712/1000: Cost 0.3099314022752976\n",
      "Iteration 713/1000: Cost 0.30993139518462864\n",
      "Iteration 714/1000: Cost 0.3099313881690602\n",
      "Iteration 715/1000: Cost 0.3099313812277855\n",
      "Iteration 716/1000: Cost 0.3099313743600068\n",
      "Iteration 717/1000: Cost 0.30993136756493483\n",
      "Iteration 718/1000: Cost 0.3099313608417891\n",
      "Iteration 719/1000: Cost 0.30993135418979806\n",
      "Iteration 720/1000: Cost 0.309931347608198\n",
      "Iteration 721/1000: Cost 0.30993134109623394\n",
      "Iteration 722/1000: Cost 0.30993133465315925\n",
      "Iteration 723/1000: Cost 0.3099313282782352\n",
      "Iteration 724/1000: Cost 0.30993132197073153\n",
      "Iteration 725/1000: Cost 0.30993131572992555\n",
      "Iteration 726/1000: Cost 0.30993130955510295\n",
      "Iteration 727/1000: Cost 0.30993130344555675\n",
      "Iteration 728/1000: Cost 0.30993129740058806\n",
      "Iteration 729/1000: Cost 0.3099312914195056\n",
      "Iteration 730/1000: Cost 0.3099312855016255\n",
      "Iteration 731/1000: Cost 0.3099312796462713\n",
      "Iteration 732/1000: Cost 0.3099312738527743\n",
      "Iteration 733/1000: Cost 0.30993126812047267\n",
      "Iteration 734/1000: Cost 0.3099312624487122\n",
      "Iteration 735/1000: Cost 0.3099312568368454\n",
      "Iteration 736/1000: Cost 0.3099312512842322\n",
      "Iteration 737/1000: Cost 0.3099312457902393\n",
      "Iteration 738/1000: Cost 0.3099312403542405\n",
      "Iteration 739/1000: Cost 0.3099312349756162\n",
      "Iteration 740/1000: Cost 0.3099312296537537\n",
      "Iteration 741/1000: Cost 0.3099312243880468\n",
      "Iteration 742/1000: Cost 0.30993121917789623\n",
      "Iteration 743/1000: Cost 0.3099312140227089\n",
      "Iteration 744/1000: Cost 0.30993120892189824\n",
      "Iteration 745/1000: Cost 0.3099312038748843\n",
      "Iteration 746/1000: Cost 0.30993119888109305\n",
      "Iteration 747/1000: Cost 0.30993119393995716\n",
      "Iteration 748/1000: Cost 0.30993118905091505\n",
      "Iteration 749/1000: Cost 0.30993118421341137\n",
      "Iteration 750/1000: Cost 0.30993117942689696\n",
      "Iteration 751/1000: Cost 0.30993117469082837\n",
      "Iteration 752/1000: Cost 0.3099311700046682\n",
      "Iteration 753/1000: Cost 0.3099311653678848\n",
      "Iteration 754/1000: Cost 0.3099311607799524\n",
      "Iteration 755/1000: Cost 0.3099311562403509\n",
      "Iteration 756/1000: Cost 0.30993115174856567\n",
      "Iteration 757/1000: Cost 0.30993114730408783\n",
      "Iteration 758/1000: Cost 0.309931142906414\n",
      "Iteration 759/1000: Cost 0.30993113855504617\n",
      "Iteration 760/1000: Cost 0.3099311342494917\n",
      "Iteration 761/1000: Cost 0.3099311299892635\n",
      "Iteration 762/1000: Cost 0.3099311257738793\n",
      "Iteration 763/1000: Cost 0.30993112160286257\n",
      "Iteration 764/1000: Cost 0.30993111747574165\n",
      "Iteration 765/1000: Cost 0.30993111339205004\n",
      "Iteration 766/1000: Cost 0.3099311093513262\n",
      "Iteration 767/1000: Cost 0.30993110535311363\n",
      "Iteration 768/1000: Cost 0.30993110139696073\n",
      "Iteration 769/1000: Cost 0.3099310974824209\n",
      "Iteration 770/1000: Cost 0.3099310936090522\n",
      "Iteration 771/1000: Cost 0.30993108977641753\n",
      "Iteration 772/1000: Cost 0.3099310859840845\n",
      "Iteration 773/1000: Cost 0.3099310822316254\n",
      "Iteration 774/1000: Cost 0.30993107851861695\n",
      "Iteration 775/1000: Cost 0.30993107484464083\n",
      "Iteration 776/1000: Cost 0.3099310712092829\n",
      "Iteration 777/1000: Cost 0.30993106761213357\n",
      "Iteration 778/1000: Cost 0.30993106405278753\n",
      "Iteration 779/1000: Cost 0.3099310605308441\n",
      "Iteration 780/1000: Cost 0.30993105704590673\n",
      "Iteration 781/1000: Cost 0.30993105359758316\n",
      "Iteration 782/1000: Cost 0.30993105018548534\n",
      "Iteration 783/1000: Cost 0.3099310468092295\n",
      "Iteration 784/1000: Cost 0.30993104346843586\n",
      "Iteration 785/1000: Cost 0.3099310401627287\n",
      "Iteration 786/1000: Cost 0.3099310368917365\n",
      "Iteration 787/1000: Cost 0.3099310336550917\n",
      "Iteration 788/1000: Cost 0.3099310304524304\n",
      "Iteration 789/1000: Cost 0.30993102728339317\n",
      "Iteration 790/1000: Cost 0.30993102414762386\n",
      "Iteration 791/1000: Cost 0.3099310210447703\n",
      "Iteration 792/1000: Cost 0.3099310179744845\n",
      "Iteration 793/1000: Cost 0.3099310149364216\n",
      "Iteration 794/1000: Cost 0.3099310119302409\n",
      "Iteration 795/1000: Cost 0.30993100895560505\n",
      "Iteration 796/1000: Cost 0.30993100601218054\n",
      "Iteration 797/1000: Cost 0.3099310030996373\n",
      "Iteration 798/1000: Cost 0.30993100021764874\n",
      "Iteration 799/1000: Cost 0.30993099736589197\n",
      "Iteration 800/1000: Cost 0.3099309945440475\n",
      "Iteration 801/1000: Cost 0.309930991751799\n",
      "Iteration 802/1000: Cost 0.3099309889888339\n",
      "Iteration 803/1000: Cost 0.3099309862548428\n",
      "Iteration 804/1000: Cost 0.3099309835495195\n",
      "Iteration 805/1000: Cost 0.3099309808725613\n",
      "Iteration 806/1000: Cost 0.3099309782236686\n",
      "Iteration 807/1000: Cost 0.309930975602545\n",
      "Iteration 808/1000: Cost 0.30993097300889727\n",
      "Iteration 809/1000: Cost 0.30993097044243545\n",
      "Iteration 810/1000: Cost 0.3099309679028725\n",
      "Iteration 811/1000: Cost 0.30993096538992454\n",
      "Iteration 812/1000: Cost 0.3099309629033107\n",
      "Iteration 813/1000: Cost 0.30993096044275303\n",
      "Iteration 814/1000: Cost 0.3099309580079767\n",
      "Iteration 815/1000: Cost 0.3099309555987097\n",
      "Iteration 816/1000: Cost 0.30993095321468306\n",
      "Iteration 817/1000: Cost 0.30993095085563044\n",
      "Iteration 818/1000: Cost 0.30993094852128855\n",
      "Iteration 819/1000: Cost 0.30993094621139683\n",
      "Iteration 820/1000: Cost 0.30993094392569753\n",
      "Iteration 821/1000: Cost 0.30993094166393553\n",
      "Iteration 822/1000: Cost 0.3099309394258586\n",
      "Iteration 823/1000: Cost 0.3099309372112171\n",
      "Iteration 824/1000: Cost 0.3099309350197641\n",
      "Iteration 825/1000: Cost 0.3099309328512553\n",
      "Iteration 826/1000: Cost 0.3099309307054488\n",
      "Iteration 827/1000: Cost 0.30993092858210564\n",
      "Iteration 828/1000: Cost 0.3099309264809891\n",
      "Iteration 829/1000: Cost 0.30993092440186504\n",
      "Iteration 830/1000: Cost 0.30993092234450204\n",
      "Iteration 831/1000: Cost 0.3099309203086708\n",
      "Iteration 832/1000: Cost 0.3099309182941447\n",
      "Iteration 833/1000: Cost 0.30993091630069947\n",
      "Iteration 834/1000: Cost 0.30993091432811315\n",
      "Iteration 835/1000: Cost 0.3099309123761662\n",
      "Iteration 836/1000: Cost 0.30993091044464144\n",
      "Iteration 837/1000: Cost 0.309930908533324\n",
      "Iteration 838/1000: Cost 0.30993090664200107\n",
      "Iteration 839/1000: Cost 0.30993090477046265\n",
      "Iteration 840/1000: Cost 0.3099309029185003\n",
      "Iteration 841/1000: Cost 0.30993090108590815\n",
      "Iteration 842/1000: Cost 0.30993089927248263\n",
      "Iteration 843/1000: Cost 0.30993089747802205\n",
      "Iteration 844/1000: Cost 0.309930895702327\n",
      "Iteration 845/1000: Cost 0.3099308939452001\n",
      "Iteration 846/1000: Cost 0.3099308922064464\n",
      "Iteration 847/1000: Cost 0.30993089048587247\n",
      "Iteration 848/1000: Cost 0.30993088878328734\n",
      "Iteration 849/1000: Cost 0.30993088709850186\n",
      "Iteration 850/1000: Cost 0.3099308854313291\n",
      "Iteration 851/1000: Cost 0.3099308837815839\n",
      "Iteration 852/1000: Cost 0.30993088214908315\n",
      "Iteration 853/1000: Cost 0.30993088053364565\n",
      "Iteration 854/1000: Cost 0.3099308789350922\n",
      "Iteration 855/1000: Cost 0.30993087735324537\n",
      "Iteration 856/1000: Cost 0.3099308757879297\n",
      "Iteration 857/1000: Cost 0.3099308742389717\n",
      "Iteration 858/1000: Cost 0.30993087270619935\n",
      "Iteration 859/1000: Cost 0.30993087118944285\n",
      "Iteration 860/1000: Cost 0.30993086968853406\n",
      "Iteration 861/1000: Cost 0.3099308682033065\n",
      "Iteration 862/1000: Cost 0.3099308667335956\n",
      "Iteration 863/1000: Cost 0.30993086527923847\n",
      "Iteration 864/1000: Cost 0.309930863840074\n",
      "Iteration 865/1000: Cost 0.30993086241594264\n",
      "Iteration 866/1000: Cost 0.3099308610066867\n",
      "Iteration 867/1000: Cost 0.30993085961215006\n",
      "Iteration 868/1000: Cost 0.30993085823217825\n",
      "Iteration 869/1000: Cost 0.30993085686661864\n",
      "Iteration 870/1000: Cost 0.30993085551531974\n",
      "Iteration 871/1000: Cost 0.30993085417813215\n",
      "Iteration 872/1000: Cost 0.30993085285490785\n",
      "Iteration 873/1000: Cost 0.30993085154550026\n",
      "Iteration 874/1000: Cost 0.30993085024976463\n",
      "Iteration 875/1000: Cost 0.30993084896755746\n",
      "Iteration 876/1000: Cost 0.309930847698737\n",
      "Iteration 877/1000: Cost 0.30993084644316277\n",
      "Iteration 878/1000: Cost 0.309930845200696\n",
      "Iteration 879/1000: Cost 0.3099308439711993\n",
      "Iteration 880/1000: Cost 0.3099308427545367\n",
      "Iteration 881/1000: Cost 0.3099308415505735\n",
      "Iteration 882/1000: Cost 0.30993084035917673\n",
      "Iteration 883/1000: Cost 0.30993083918021475\n",
      "Iteration 884/1000: Cost 0.30993083801355714\n",
      "Iteration 885/1000: Cost 0.309930836859075\n",
      "Iteration 886/1000: Cost 0.30993083571664076\n",
      "Iteration 887/1000: Cost 0.3099308345861282\n",
      "Iteration 888/1000: Cost 0.30993083346741246\n",
      "Iteration 889/1000: Cost 0.3099308323603699\n",
      "Iteration 890/1000: Cost 0.3099308312648783\n",
      "Iteration 891/1000: Cost 0.3099308301808165\n",
      "Iteration 892/1000: Cost 0.3099308291080651\n",
      "Iteration 893/1000: Cost 0.30993082804650535\n",
      "Iteration 894/1000: Cost 0.3099308269960202\n",
      "Iteration 895/1000: Cost 0.3099308259564936\n",
      "Iteration 896/1000: Cost 0.30993082492781093\n",
      "Iteration 897/1000: Cost 0.30993082390985854\n",
      "Iteration 898/1000: Cost 0.30993082290252416\n",
      "Iteration 899/1000: Cost 0.30993082190569654\n",
      "Iteration 900/1000: Cost 0.3099308209192659\n",
      "Iteration 901/1000: Cost 0.30993081994312316\n",
      "Iteration 902/1000: Cost 0.30993081897716085\n",
      "Iteration 903/1000: Cost 0.30993081802127226\n",
      "Iteration 904/1000: Cost 0.309930817075352\n",
      "Iteration 905/1000: Cost 0.30993081613929585\n",
      "Iteration 906/1000: Cost 0.30993081521300053\n",
      "Iteration 907/1000: Cost 0.3099308142963639\n",
      "Iteration 908/1000: Cost 0.3099308133892849\n",
      "Iteration 909/1000: Cost 0.30993081249166365\n",
      "Iteration 910/1000: Cost 0.309930811603401\n",
      "Iteration 911/1000: Cost 0.3099308107243992\n",
      "Iteration 912/1000: Cost 0.3099308098545614\n",
      "Iteration 913/1000: Cost 0.3099308089937916\n",
      "Iteration 914/1000: Cost 0.30993080814199514\n",
      "Iteration 915/1000: Cost 0.309930807299078\n",
      "Iteration 916/1000: Cost 0.3099308064649475\n",
      "Iteration 917/1000: Cost 0.30993080563951164\n",
      "Iteration 918/1000: Cost 0.30993080482267954\n",
      "Iteration 919/1000: Cost 0.30993080401436124\n",
      "Iteration 920/1000: Cost 0.3099308032144677\n",
      "Iteration 921/1000: Cost 0.3099308024229109\n",
      "Iteration 922/1000: Cost 0.30993080163960357\n",
      "Iteration 923/1000: Cost 0.30993080086445957\n",
      "Iteration 924/1000: Cost 0.3099308000973936\n",
      "Iteration 925/1000: Cost 0.3099307993383212\n",
      "Iteration 926/1000: Cost 0.30993079858715866\n",
      "Iteration 927/1000: Cost 0.30993079784382355\n",
      "Iteration 928/1000: Cost 0.30993079710823396\n",
      "Iteration 929/1000: Cost 0.30993079638030896\n",
      "Iteration 930/1000: Cost 0.3099307956599684\n",
      "Iteration 931/1000: Cost 0.30993079494713316\n",
      "Iteration 932/1000: Cost 0.3099307942417247\n",
      "Iteration 933/1000: Cost 0.30993079354366543\n",
      "Iteration 934/1000: Cost 0.30993079285287867\n",
      "Iteration 935/1000: Cost 0.30993079216928837\n",
      "Iteration 936/1000: Cost 0.3099307914928193\n",
      "Iteration 937/1000: Cost 0.30993079082339714\n",
      "Iteration 938/1000: Cost 0.3099307901609483\n",
      "Iteration 939/1000: Cost 0.30993078950539993\n",
      "Iteration 940/1000: Cost 0.30993078885667996\n",
      "Iteration 941/1000: Cost 0.30993078821471703\n",
      "Iteration 942/1000: Cost 0.30993078757944065\n",
      "Iteration 943/1000: Cost 0.30993078695078086\n",
      "Iteration 944/1000: Cost 0.3099307863286688\n",
      "Iteration 945/1000: Cost 0.30993078571303584\n",
      "Iteration 946/1000: Cost 0.3099307851038144\n",
      "Iteration 947/1000: Cost 0.3099307845009377\n",
      "Iteration 948/1000: Cost 0.30993078390433926\n",
      "Iteration 949/1000: Cost 0.3099307833139538\n",
      "Iteration 950/1000: Cost 0.3099307827297162\n",
      "Iteration 951/1000: Cost 0.3099307821515624\n",
      "Iteration 952/1000: Cost 0.3099307815794289\n",
      "Iteration 953/1000: Cost 0.30993078101325283\n",
      "Iteration 954/1000: Cost 0.309930780452972\n",
      "Iteration 955/1000: Cost 0.3099307798985249\n",
      "Iteration 956/1000: Cost 0.30993077934985075\n",
      "Iteration 957/1000: Cost 0.30993077880688913\n",
      "Iteration 958/1000: Cost 0.3099307782695805\n",
      "Iteration 959/1000: Cost 0.30993077773786587\n",
      "Iteration 960/1000: Cost 0.3099307772116868\n",
      "Iteration 961/1000: Cost 0.3099307766909856\n",
      "Iteration 962/1000: Cost 0.30993077617570514\n",
      "Iteration 963/1000: Cost 0.3099307756657888\n",
      "Iteration 964/1000: Cost 0.30993077516118056\n",
      "Iteration 965/1000: Cost 0.30993077466182517\n",
      "Iteration 966/1000: Cost 0.3099307741676678\n",
      "Iteration 967/1000: Cost 0.3099307736786541\n",
      "Iteration 968/1000: Cost 0.30993077319473067\n",
      "Iteration 969/1000: Cost 0.3099307727158441\n",
      "Iteration 970/1000: Cost 0.3099307722419421\n",
      "Iteration 971/1000: Cost 0.3099307717729725\n",
      "Iteration 972/1000: Cost 0.30993077130888397\n",
      "Iteration 973/1000: Cost 0.30993077084962556\n",
      "Iteration 974/1000: Cost 0.3099307703951469\n",
      "Iteration 975/1000: Cost 0.3099307699453981\n",
      "Iteration 976/1000: Cost 0.3099307695003299\n",
      "Iteration 977/1000: Cost 0.3099307690598935\n",
      "Iteration 978/1000: Cost 0.30993076862404056\n",
      "Iteration 979/1000: Cost 0.30993076819272325\n",
      "Iteration 980/1000: Cost 0.30993076776589434\n",
      "Iteration 981/1000: Cost 0.30993076734350705\n",
      "Iteration 982/1000: Cost 0.3099307669255149\n",
      "Iteration 983/1000: Cost 0.3099307665118723\n",
      "Iteration 984/1000: Cost 0.3099307661025338\n",
      "Iteration 985/1000: Cost 0.3099307656974545\n",
      "Iteration 986/1000: Cost 0.3099307652965901\n",
      "Iteration 987/1000: Cost 0.30993076489989646\n",
      "Iteration 988/1000: Cost 0.30993076450733026\n",
      "Iteration 989/1000: Cost 0.3099307641188485\n",
      "Iteration 990/1000: Cost 0.30993076373440853\n",
      "Iteration 991/1000: Cost 0.30993076335396824\n",
      "Iteration 992/1000: Cost 0.3099307629774859\n",
      "Iteration 993/1000: Cost 0.3099307626049204\n",
      "Iteration 994/1000: Cost 0.3099307622362308\n",
      "Iteration 995/1000: Cost 0.3099307618713767\n",
      "Iteration 996/1000: Cost 0.3099307615103181\n",
      "Iteration 997/1000: Cost 0.3099307611530156\n",
      "Iteration 998/1000: Cost 0.30993076079942994\n",
      "Iteration 999/1000: Cost 0.3099307604495224\n",
      "Iteration 1000/1000: Cost 0.3099307601032547\n"
     ]
    }
   ],
   "source": [
    "# Train custom linear multinomial logistic regression model\n",
    "custom_linear_mlr_model = MultinomialLogisticRegression(learning_rate=0.7)\n",
    "custom_linear_mlr_model.fit(X_train_scaled, y_train)"
   ]
  },
  {
   "cell_type": "code",
   "execution_count": 36,
   "metadata": {},
   "outputs": [
    {
     "data": {
      "application/vnd.plotly.v1+json": {
       "config": {
        "plotlyServerURL": "https://plot.ly"
       },
       "data": [
        {
         "hovertemplate": "Iteration=%{x}<br>Cost=%{y}<extra></extra>",
         "legendgroup": "",
         "line": {
          "color": "#636efa",
          "dash": "solid"
         },
         "marker": {
          "symbol": "circle"
         },
         "mode": "lines",
         "name": "",
         "orientation": "v",
         "showlegend": false,
         "type": "scatter",
         "x": [
          100,
          200,
          300,
          400,
          500,
          600,
          700,
          800,
          900,
          1000
         ],
         "xaxis": "x",
         "y": [
          0.31142376048471093,
          0.31020911570733123,
          0.31000064081455897,
          0.30995123348071446,
          0.3099373155757351,
          0.30993294801407,
          0.30993149352738364,
          0.3099309945440475,
          0.3099308209192659,
          0.3099307601032547
         ],
         "yaxis": "y"
        }
       ],
       "layout": {
        "legend": {
         "tracegroupgap": 0
        },
        "template": {
         "data": {
          "bar": [
           {
            "error_x": {
             "color": "#2a3f5f"
            },
            "error_y": {
             "color": "#2a3f5f"
            },
            "marker": {
             "line": {
              "color": "#E5ECF6",
              "width": 0.5
             },
             "pattern": {
              "fillmode": "overlay",
              "size": 10,
              "solidity": 0.2
             }
            },
            "type": "bar"
           }
          ],
          "barpolar": [
           {
            "marker": {
             "line": {
              "color": "#E5ECF6",
              "width": 0.5
             },
             "pattern": {
              "fillmode": "overlay",
              "size": 10,
              "solidity": 0.2
             }
            },
            "type": "barpolar"
           }
          ],
          "carpet": [
           {
            "aaxis": {
             "endlinecolor": "#2a3f5f",
             "gridcolor": "white",
             "linecolor": "white",
             "minorgridcolor": "white",
             "startlinecolor": "#2a3f5f"
            },
            "baxis": {
             "endlinecolor": "#2a3f5f",
             "gridcolor": "white",
             "linecolor": "white",
             "minorgridcolor": "white",
             "startlinecolor": "#2a3f5f"
            },
            "type": "carpet"
           }
          ],
          "choropleth": [
           {
            "colorbar": {
             "outlinewidth": 0,
             "ticks": ""
            },
            "type": "choropleth"
           }
          ],
          "contour": [
           {
            "colorbar": {
             "outlinewidth": 0,
             "ticks": ""
            },
            "colorscale": [
             [
              0,
              "#0d0887"
             ],
             [
              0.1111111111111111,
              "#46039f"
             ],
             [
              0.2222222222222222,
              "#7201a8"
             ],
             [
              0.3333333333333333,
              "#9c179e"
             ],
             [
              0.4444444444444444,
              "#bd3786"
             ],
             [
              0.5555555555555556,
              "#d8576b"
             ],
             [
              0.6666666666666666,
              "#ed7953"
             ],
             [
              0.7777777777777778,
              "#fb9f3a"
             ],
             [
              0.8888888888888888,
              "#fdca26"
             ],
             [
              1,
              "#f0f921"
             ]
            ],
            "type": "contour"
           }
          ],
          "contourcarpet": [
           {
            "colorbar": {
             "outlinewidth": 0,
             "ticks": ""
            },
            "type": "contourcarpet"
           }
          ],
          "heatmap": [
           {
            "colorbar": {
             "outlinewidth": 0,
             "ticks": ""
            },
            "colorscale": [
             [
              0,
              "#0d0887"
             ],
             [
              0.1111111111111111,
              "#46039f"
             ],
             [
              0.2222222222222222,
              "#7201a8"
             ],
             [
              0.3333333333333333,
              "#9c179e"
             ],
             [
              0.4444444444444444,
              "#bd3786"
             ],
             [
              0.5555555555555556,
              "#d8576b"
             ],
             [
              0.6666666666666666,
              "#ed7953"
             ],
             [
              0.7777777777777778,
              "#fb9f3a"
             ],
             [
              0.8888888888888888,
              "#fdca26"
             ],
             [
              1,
              "#f0f921"
             ]
            ],
            "type": "heatmap"
           }
          ],
          "heatmapgl": [
           {
            "colorbar": {
             "outlinewidth": 0,
             "ticks": ""
            },
            "colorscale": [
             [
              0,
              "#0d0887"
             ],
             [
              0.1111111111111111,
              "#46039f"
             ],
             [
              0.2222222222222222,
              "#7201a8"
             ],
             [
              0.3333333333333333,
              "#9c179e"
             ],
             [
              0.4444444444444444,
              "#bd3786"
             ],
             [
              0.5555555555555556,
              "#d8576b"
             ],
             [
              0.6666666666666666,
              "#ed7953"
             ],
             [
              0.7777777777777778,
              "#fb9f3a"
             ],
             [
              0.8888888888888888,
              "#fdca26"
             ],
             [
              1,
              "#f0f921"
             ]
            ],
            "type": "heatmapgl"
           }
          ],
          "histogram": [
           {
            "marker": {
             "pattern": {
              "fillmode": "overlay",
              "size": 10,
              "solidity": 0.2
             }
            },
            "type": "histogram"
           }
          ],
          "histogram2d": [
           {
            "colorbar": {
             "outlinewidth": 0,
             "ticks": ""
            },
            "colorscale": [
             [
              0,
              "#0d0887"
             ],
             [
              0.1111111111111111,
              "#46039f"
             ],
             [
              0.2222222222222222,
              "#7201a8"
             ],
             [
              0.3333333333333333,
              "#9c179e"
             ],
             [
              0.4444444444444444,
              "#bd3786"
             ],
             [
              0.5555555555555556,
              "#d8576b"
             ],
             [
              0.6666666666666666,
              "#ed7953"
             ],
             [
              0.7777777777777778,
              "#fb9f3a"
             ],
             [
              0.8888888888888888,
              "#fdca26"
             ],
             [
              1,
              "#f0f921"
             ]
            ],
            "type": "histogram2d"
           }
          ],
          "histogram2dcontour": [
           {
            "colorbar": {
             "outlinewidth": 0,
             "ticks": ""
            },
            "colorscale": [
             [
              0,
              "#0d0887"
             ],
             [
              0.1111111111111111,
              "#46039f"
             ],
             [
              0.2222222222222222,
              "#7201a8"
             ],
             [
              0.3333333333333333,
              "#9c179e"
             ],
             [
              0.4444444444444444,
              "#bd3786"
             ],
             [
              0.5555555555555556,
              "#d8576b"
             ],
             [
              0.6666666666666666,
              "#ed7953"
             ],
             [
              0.7777777777777778,
              "#fb9f3a"
             ],
             [
              0.8888888888888888,
              "#fdca26"
             ],
             [
              1,
              "#f0f921"
             ]
            ],
            "type": "histogram2dcontour"
           }
          ],
          "mesh3d": [
           {
            "colorbar": {
             "outlinewidth": 0,
             "ticks": ""
            },
            "type": "mesh3d"
           }
          ],
          "parcoords": [
           {
            "line": {
             "colorbar": {
              "outlinewidth": 0,
              "ticks": ""
             }
            },
            "type": "parcoords"
           }
          ],
          "pie": [
           {
            "automargin": true,
            "type": "pie"
           }
          ],
          "scatter": [
           {
            "fillpattern": {
             "fillmode": "overlay",
             "size": 10,
             "solidity": 0.2
            },
            "type": "scatter"
           }
          ],
          "scatter3d": [
           {
            "line": {
             "colorbar": {
              "outlinewidth": 0,
              "ticks": ""
             }
            },
            "marker": {
             "colorbar": {
              "outlinewidth": 0,
              "ticks": ""
             }
            },
            "type": "scatter3d"
           }
          ],
          "scattercarpet": [
           {
            "marker": {
             "colorbar": {
              "outlinewidth": 0,
              "ticks": ""
             }
            },
            "type": "scattercarpet"
           }
          ],
          "scattergeo": [
           {
            "marker": {
             "colorbar": {
              "outlinewidth": 0,
              "ticks": ""
             }
            },
            "type": "scattergeo"
           }
          ],
          "scattergl": [
           {
            "marker": {
             "colorbar": {
              "outlinewidth": 0,
              "ticks": ""
             }
            },
            "type": "scattergl"
           }
          ],
          "scattermapbox": [
           {
            "marker": {
             "colorbar": {
              "outlinewidth": 0,
              "ticks": ""
             }
            },
            "type": "scattermapbox"
           }
          ],
          "scatterpolar": [
           {
            "marker": {
             "colorbar": {
              "outlinewidth": 0,
              "ticks": ""
             }
            },
            "type": "scatterpolar"
           }
          ],
          "scatterpolargl": [
           {
            "marker": {
             "colorbar": {
              "outlinewidth": 0,
              "ticks": ""
             }
            },
            "type": "scatterpolargl"
           }
          ],
          "scatterternary": [
           {
            "marker": {
             "colorbar": {
              "outlinewidth": 0,
              "ticks": ""
             }
            },
            "type": "scatterternary"
           }
          ],
          "surface": [
           {
            "colorbar": {
             "outlinewidth": 0,
             "ticks": ""
            },
            "colorscale": [
             [
              0,
              "#0d0887"
             ],
             [
              0.1111111111111111,
              "#46039f"
             ],
             [
              0.2222222222222222,
              "#7201a8"
             ],
             [
              0.3333333333333333,
              "#9c179e"
             ],
             [
              0.4444444444444444,
              "#bd3786"
             ],
             [
              0.5555555555555556,
              "#d8576b"
             ],
             [
              0.6666666666666666,
              "#ed7953"
             ],
             [
              0.7777777777777778,
              "#fb9f3a"
             ],
             [
              0.8888888888888888,
              "#fdca26"
             ],
             [
              1,
              "#f0f921"
             ]
            ],
            "type": "surface"
           }
          ],
          "table": [
           {
            "cells": {
             "fill": {
              "color": "#EBF0F8"
             },
             "line": {
              "color": "white"
             }
            },
            "header": {
             "fill": {
              "color": "#C8D4E3"
             },
             "line": {
              "color": "white"
             }
            },
            "type": "table"
           }
          ]
         },
         "layout": {
          "annotationdefaults": {
           "arrowcolor": "#2a3f5f",
           "arrowhead": 0,
           "arrowwidth": 1
          },
          "autotypenumbers": "strict",
          "coloraxis": {
           "colorbar": {
            "outlinewidth": 0,
            "ticks": ""
           }
          },
          "colorscale": {
           "diverging": [
            [
             0,
             "#8e0152"
            ],
            [
             0.1,
             "#c51b7d"
            ],
            [
             0.2,
             "#de77ae"
            ],
            [
             0.3,
             "#f1b6da"
            ],
            [
             0.4,
             "#fde0ef"
            ],
            [
             0.5,
             "#f7f7f7"
            ],
            [
             0.6,
             "#e6f5d0"
            ],
            [
             0.7,
             "#b8e186"
            ],
            [
             0.8,
             "#7fbc41"
            ],
            [
             0.9,
             "#4d9221"
            ],
            [
             1,
             "#276419"
            ]
           ],
           "sequential": [
            [
             0,
             "#0d0887"
            ],
            [
             0.1111111111111111,
             "#46039f"
            ],
            [
             0.2222222222222222,
             "#7201a8"
            ],
            [
             0.3333333333333333,
             "#9c179e"
            ],
            [
             0.4444444444444444,
             "#bd3786"
            ],
            [
             0.5555555555555556,
             "#d8576b"
            ],
            [
             0.6666666666666666,
             "#ed7953"
            ],
            [
             0.7777777777777778,
             "#fb9f3a"
            ],
            [
             0.8888888888888888,
             "#fdca26"
            ],
            [
             1,
             "#f0f921"
            ]
           ],
           "sequentialminus": [
            [
             0,
             "#0d0887"
            ],
            [
             0.1111111111111111,
             "#46039f"
            ],
            [
             0.2222222222222222,
             "#7201a8"
            ],
            [
             0.3333333333333333,
             "#9c179e"
            ],
            [
             0.4444444444444444,
             "#bd3786"
            ],
            [
             0.5555555555555556,
             "#d8576b"
            ],
            [
             0.6666666666666666,
             "#ed7953"
            ],
            [
             0.7777777777777778,
             "#fb9f3a"
            ],
            [
             0.8888888888888888,
             "#fdca26"
            ],
            [
             1,
             "#f0f921"
            ]
           ]
          },
          "colorway": [
           "#636efa",
           "#EF553B",
           "#00cc96",
           "#ab63fa",
           "#FFA15A",
           "#19d3f3",
           "#FF6692",
           "#B6E880",
           "#FF97FF",
           "#FECB52"
          ],
          "font": {
           "color": "#2a3f5f"
          },
          "geo": {
           "bgcolor": "white",
           "lakecolor": "white",
           "landcolor": "#E5ECF6",
           "showlakes": true,
           "showland": true,
           "subunitcolor": "white"
          },
          "hoverlabel": {
           "align": "left"
          },
          "hovermode": "closest",
          "mapbox": {
           "style": "light"
          },
          "paper_bgcolor": "white",
          "plot_bgcolor": "#E5ECF6",
          "polar": {
           "angularaxis": {
            "gridcolor": "white",
            "linecolor": "white",
            "ticks": ""
           },
           "bgcolor": "#E5ECF6",
           "radialaxis": {
            "gridcolor": "white",
            "linecolor": "white",
            "ticks": ""
           }
          },
          "scene": {
           "xaxis": {
            "backgroundcolor": "#E5ECF6",
            "gridcolor": "white",
            "gridwidth": 2,
            "linecolor": "white",
            "showbackground": true,
            "ticks": "",
            "zerolinecolor": "white"
           },
           "yaxis": {
            "backgroundcolor": "#E5ECF6",
            "gridcolor": "white",
            "gridwidth": 2,
            "linecolor": "white",
            "showbackground": true,
            "ticks": "",
            "zerolinecolor": "white"
           },
           "zaxis": {
            "backgroundcolor": "#E5ECF6",
            "gridcolor": "white",
            "gridwidth": 2,
            "linecolor": "white",
            "showbackground": true,
            "ticks": "",
            "zerolinecolor": "white"
           }
          },
          "shapedefaults": {
           "line": {
            "color": "#2a3f5f"
           }
          },
          "ternary": {
           "aaxis": {
            "gridcolor": "white",
            "linecolor": "white",
            "ticks": ""
           },
           "baxis": {
            "gridcolor": "white",
            "linecolor": "white",
            "ticks": ""
           },
           "bgcolor": "#E5ECF6",
           "caxis": {
            "gridcolor": "white",
            "linecolor": "white",
            "ticks": ""
           }
          },
          "title": {
           "x": 0.05
          },
          "xaxis": {
           "automargin": true,
           "gridcolor": "white",
           "linecolor": "white",
           "ticks": "",
           "title": {
            "standoff": 15
           },
           "zerolinecolor": "white",
           "zerolinewidth": 2
          },
          "yaxis": {
           "automargin": true,
           "gridcolor": "white",
           "linecolor": "white",
           "ticks": "",
           "title": {
            "standoff": 15
           },
           "zerolinecolor": "white",
           "zerolinewidth": 2
          }
         }
        },
        "title": {
         "text": "Iteration vs Cost"
        },
        "xaxis": {
         "anchor": "y",
         "domain": [
          0,
          1
         ],
         "title": {
          "text": "Iteration"
         }
        },
        "yaxis": {
         "anchor": "x",
         "domain": [
          0,
          1
         ],
         "title": {
          "text": "Cost"
         }
        }
       }
      }
     },
     "metadata": {},
     "output_type": "display_data"
    }
   ],
   "source": [
    "# Convert cost history into numpy arrays\n",
    "cost_hist = np.array(custom_linear_mlr_model.cost_history)\n",
    "\n",
    "# Plotly Express line chart\n",
    "fig = px.line(\n",
    "    x=cost_hist[:, 0],\n",
    "    y=cost_hist[:, 1],\n",
    "    title=\"Iteration vs Cost\",\n",
    "    labels={\"x\": \"Iteration\", \"y\": \"Cost\"}\n",
    ")\n",
    "\n",
    "# Show the plot\n",
    "fig.show()\n",
    "\n",
    "# Saved as plot_1.png in the current directory/folder"
   ]
  },
  {
   "cell_type": "markdown",
   "metadata": {},
   "source": [
    "The above plot shows the decrease in cost as the number of iterations increases, flattening out at approximately 400 iterations. This indicates the proper functioning of gradient descent in minimizing cost, leading to the convergence of the model and the attainment of optimal model parameters."
   ]
  },
  {
   "cell_type": "code",
   "execution_count": 37,
   "metadata": {},
   "outputs": [
    {
     "name": "stdout",
     "output_type": "stream",
     "text": [
      "Custom Linear Multinomial Logistic Regression:\n",
      "\n",
      "Training set - Accuracy: 0.8727, Precision: 0.8725, Recall: 0.8727, F1-score: 0.8724\n",
      "Validation set - Accuracy: 0.8670, Precision: 0.8679, Recall: 0.8670, F1-score: 0.8668\n",
      "Test set - Accuracy: 0.8860, Precision: 0.8862, Recall: 0.8860, F1-score: 0.8857\n"
     ]
    }
   ],
   "source": [
    "# Evaluate the custom linear multinomial logistic regression model\n",
    "train_acc, train_prec, train_rec, train_f1 = custom_linear_mlr_model.evaluate_model(X_train_scaled, y_train)\n",
    "val_acc, val_prec, val_rec, val_f1 = custom_linear_mlr_model.evaluate_model(X_val_scaled, y_val)\n",
    "test_acc, test_prec, test_rec, test_f1 = custom_linear_mlr_model.evaluate_model(X_test_scaled, y_test)\n",
    "\n",
    "print(\"Custom Linear Multinomial Logistic Regression:\\n\")\n",
    "\n",
    "print(f\"Training set - Accuracy: {train_acc:.4f}, Precision: {train_prec:.4f}, Recall: {train_rec:.4f}, \"\n",
    "        f\"F1-score: {train_f1:.4f}\")\n",
    "\n",
    "print(f\"Validation set - Accuracy: {val_acc:.4f}, Precision: {val_prec:.4f}, Recall: {val_rec:.4f}, \"\n",
    "        f\"F1-score: {val_f1:.4f}\")\n",
    "\n",
    "print(f\"Test set - Accuracy: {test_acc:.4f}, Precision: {test_prec:.4f}, Recall: {test_rec:.4f}, \"\n",
    "        f\"F1-score: {test_f1:.4f}\")"
   ]
  },
  {
   "cell_type": "markdown",
   "metadata": {},
   "source": [
    "Scikit-Learn Linear Multinomial Logistic Regression: <br>\n",
    "\n",
    "Training set - Accuracy: 0.8727, Precision: 0.8725, Recall: 0.8727, F1-score: 0.8724<br>\n",
    "Validation set - Accuracy: 0.8670, Precision: 0.8679, Recall: 0.8670, F1-score: 0.8668<br>\n",
    "Test set - Accuracy: 0.8860, Precision: 0.8862, Recall: 0.8860, F1-score: 0.8857"
   ]
  },
  {
   "cell_type": "markdown",
   "metadata": {},
   "source": [
    "The Custom and Scikit-Learn implementations of the **Linear Multinomial Lgistic Regression** model yield identical results across the training, validation, and test sets. These consistent results across both implementations affirm the reliability and correctness of the model in predicting outcomes, showcasing its effective generalization to unseen data. With the goal of building a **Multiclass Classification Model with Linear Decision Boundaries** achieved, our next step is to develop a **Multiclass Classification Model with Non-Linear Decision Boundaries**."
   ]
  },
  {
   "cell_type": "markdown",
   "metadata": {},
   "source": [
    "## 2. Multiclass Classification Model with Non-Linear Decision Boundaries"
   ]
  },
  {
   "cell_type": "markdown",
   "metadata": {},
   "source": [
    "##### This project also uses data from the [`UCI Machine Learning Repository`](https://archive.ics.uci.edu/dataset/80/optical+recognition+of+handwritten+digits). The dataset is licensed under a [`Creative Commons Attribution 4.0 International (CC BY 4.0) license`](https://creativecommons.org/licenses/by/4.0/legalcode). The data from `optdigits.tra` and `optdigits.tes` was merged into `optdigits.csv` file with addition to variable names, and the dataset was converted into numpy arrays, for building a machine learning model."
   ]
  },
  {
   "cell_type": "code",
   "execution_count": 12,
   "metadata": {},
   "outputs": [
    {
     "data": {
      "text/html": [
       "<div>\n",
       "<style scoped>\n",
       "    .dataframe tbody tr th:only-of-type {\n",
       "        vertical-align: middle;\n",
       "    }\n",
       "\n",
       "    .dataframe tbody tr th {\n",
       "        vertical-align: top;\n",
       "    }\n",
       "\n",
       "    .dataframe thead th {\n",
       "        text-align: right;\n",
       "    }\n",
       "</style>\n",
       "<table border=\"1\" class=\"dataframe\">\n",
       "  <thead>\n",
       "    <tr style=\"text-align: right;\">\n",
       "      <th></th>\n",
       "      <th>Attribute1</th>\n",
       "      <th>Attribute2</th>\n",
       "      <th>Attribute3</th>\n",
       "      <th>Attribute4</th>\n",
       "      <th>Attribute5</th>\n",
       "      <th>Attribute6</th>\n",
       "      <th>Attribute7</th>\n",
       "      <th>Attribute8</th>\n",
       "      <th>Attribute9</th>\n",
       "      <th>Attribute10</th>\n",
       "      <th>...</th>\n",
       "      <th>Attribute56</th>\n",
       "      <th>Attribute57</th>\n",
       "      <th>Attribute58</th>\n",
       "      <th>Attribute59</th>\n",
       "      <th>Attribute60</th>\n",
       "      <th>Attribute61</th>\n",
       "      <th>Attribute62</th>\n",
       "      <th>Attribute63</th>\n",
       "      <th>Attribute64</th>\n",
       "      <th>class</th>\n",
       "    </tr>\n",
       "  </thead>\n",
       "  <tbody>\n",
       "    <tr>\n",
       "      <th>0</th>\n",
       "      <td>0</td>\n",
       "      <td>1</td>\n",
       "      <td>6</td>\n",
       "      <td>15</td>\n",
       "      <td>12</td>\n",
       "      <td>1</td>\n",
       "      <td>0</td>\n",
       "      <td>0</td>\n",
       "      <td>0</td>\n",
       "      <td>7</td>\n",
       "      <td>...</td>\n",
       "      <td>0</td>\n",
       "      <td>0</td>\n",
       "      <td>0</td>\n",
       "      <td>6</td>\n",
       "      <td>14</td>\n",
       "      <td>7</td>\n",
       "      <td>1</td>\n",
       "      <td>0</td>\n",
       "      <td>0</td>\n",
       "      <td>0</td>\n",
       "    </tr>\n",
       "    <tr>\n",
       "      <th>1</th>\n",
       "      <td>0</td>\n",
       "      <td>0</td>\n",
       "      <td>10</td>\n",
       "      <td>16</td>\n",
       "      <td>6</td>\n",
       "      <td>0</td>\n",
       "      <td>0</td>\n",
       "      <td>0</td>\n",
       "      <td>0</td>\n",
       "      <td>7</td>\n",
       "      <td>...</td>\n",
       "      <td>0</td>\n",
       "      <td>0</td>\n",
       "      <td>0</td>\n",
       "      <td>10</td>\n",
       "      <td>16</td>\n",
       "      <td>15</td>\n",
       "      <td>3</td>\n",
       "      <td>0</td>\n",
       "      <td>0</td>\n",
       "      <td>0</td>\n",
       "    </tr>\n",
       "    <tr>\n",
       "      <th>2</th>\n",
       "      <td>0</td>\n",
       "      <td>0</td>\n",
       "      <td>8</td>\n",
       "      <td>15</td>\n",
       "      <td>16</td>\n",
       "      <td>13</td>\n",
       "      <td>0</td>\n",
       "      <td>0</td>\n",
       "      <td>0</td>\n",
       "      <td>1</td>\n",
       "      <td>...</td>\n",
       "      <td>0</td>\n",
       "      <td>0</td>\n",
       "      <td>0</td>\n",
       "      <td>9</td>\n",
       "      <td>14</td>\n",
       "      <td>0</td>\n",
       "      <td>0</td>\n",
       "      <td>0</td>\n",
       "      <td>0</td>\n",
       "      <td>7</td>\n",
       "    </tr>\n",
       "    <tr>\n",
       "      <th>3</th>\n",
       "      <td>0</td>\n",
       "      <td>0</td>\n",
       "      <td>0</td>\n",
       "      <td>3</td>\n",
       "      <td>11</td>\n",
       "      <td>16</td>\n",
       "      <td>0</td>\n",
       "      <td>0</td>\n",
       "      <td>0</td>\n",
       "      <td>0</td>\n",
       "      <td>...</td>\n",
       "      <td>0</td>\n",
       "      <td>0</td>\n",
       "      <td>0</td>\n",
       "      <td>0</td>\n",
       "      <td>1</td>\n",
       "      <td>15</td>\n",
       "      <td>2</td>\n",
       "      <td>0</td>\n",
       "      <td>0</td>\n",
       "      <td>4</td>\n",
       "    </tr>\n",
       "    <tr>\n",
       "      <th>4</th>\n",
       "      <td>0</td>\n",
       "      <td>0</td>\n",
       "      <td>5</td>\n",
       "      <td>14</td>\n",
       "      <td>4</td>\n",
       "      <td>0</td>\n",
       "      <td>0</td>\n",
       "      <td>0</td>\n",
       "      <td>0</td>\n",
       "      <td>0</td>\n",
       "      <td>...</td>\n",
       "      <td>0</td>\n",
       "      <td>0</td>\n",
       "      <td>0</td>\n",
       "      <td>4</td>\n",
       "      <td>12</td>\n",
       "      <td>14</td>\n",
       "      <td>7</td>\n",
       "      <td>0</td>\n",
       "      <td>0</td>\n",
       "      <td>6</td>\n",
       "    </tr>\n",
       "    <tr>\n",
       "      <th>...</th>\n",
       "      <td>...</td>\n",
       "      <td>...</td>\n",
       "      <td>...</td>\n",
       "      <td>...</td>\n",
       "      <td>...</td>\n",
       "      <td>...</td>\n",
       "      <td>...</td>\n",
       "      <td>...</td>\n",
       "      <td>...</td>\n",
       "      <td>...</td>\n",
       "      <td>...</td>\n",
       "      <td>...</td>\n",
       "      <td>...</td>\n",
       "      <td>...</td>\n",
       "      <td>...</td>\n",
       "      <td>...</td>\n",
       "      <td>...</td>\n",
       "      <td>...</td>\n",
       "      <td>...</td>\n",
       "      <td>...</td>\n",
       "      <td>...</td>\n",
       "    </tr>\n",
       "    <tr>\n",
       "      <th>5615</th>\n",
       "      <td>0</td>\n",
       "      <td>0</td>\n",
       "      <td>4</td>\n",
       "      <td>10</td>\n",
       "      <td>13</td>\n",
       "      <td>6</td>\n",
       "      <td>0</td>\n",
       "      <td>0</td>\n",
       "      <td>0</td>\n",
       "      <td>1</td>\n",
       "      <td>...</td>\n",
       "      <td>0</td>\n",
       "      <td>0</td>\n",
       "      <td>0</td>\n",
       "      <td>2</td>\n",
       "      <td>14</td>\n",
       "      <td>15</td>\n",
       "      <td>9</td>\n",
       "      <td>0</td>\n",
       "      <td>0</td>\n",
       "      <td>9</td>\n",
       "    </tr>\n",
       "    <tr>\n",
       "      <th>5616</th>\n",
       "      <td>0</td>\n",
       "      <td>0</td>\n",
       "      <td>6</td>\n",
       "      <td>16</td>\n",
       "      <td>13</td>\n",
       "      <td>11</td>\n",
       "      <td>1</td>\n",
       "      <td>0</td>\n",
       "      <td>0</td>\n",
       "      <td>0</td>\n",
       "      <td>...</td>\n",
       "      <td>0</td>\n",
       "      <td>0</td>\n",
       "      <td>0</td>\n",
       "      <td>6</td>\n",
       "      <td>16</td>\n",
       "      <td>14</td>\n",
       "      <td>6</td>\n",
       "      <td>0</td>\n",
       "      <td>0</td>\n",
       "      <td>0</td>\n",
       "    </tr>\n",
       "    <tr>\n",
       "      <th>5617</th>\n",
       "      <td>0</td>\n",
       "      <td>0</td>\n",
       "      <td>1</td>\n",
       "      <td>11</td>\n",
       "      <td>15</td>\n",
       "      <td>1</td>\n",
       "      <td>0</td>\n",
       "      <td>0</td>\n",
       "      <td>0</td>\n",
       "      <td>0</td>\n",
       "      <td>...</td>\n",
       "      <td>0</td>\n",
       "      <td>0</td>\n",
       "      <td>0</td>\n",
       "      <td>2</td>\n",
       "      <td>9</td>\n",
       "      <td>13</td>\n",
       "      <td>6</td>\n",
       "      <td>0</td>\n",
       "      <td>0</td>\n",
       "      <td>8</td>\n",
       "    </tr>\n",
       "    <tr>\n",
       "      <th>5618</th>\n",
       "      <td>0</td>\n",
       "      <td>0</td>\n",
       "      <td>2</td>\n",
       "      <td>10</td>\n",
       "      <td>7</td>\n",
       "      <td>0</td>\n",
       "      <td>0</td>\n",
       "      <td>0</td>\n",
       "      <td>0</td>\n",
       "      <td>0</td>\n",
       "      <td>...</td>\n",
       "      <td>0</td>\n",
       "      <td>0</td>\n",
       "      <td>0</td>\n",
       "      <td>5</td>\n",
       "      <td>12</td>\n",
       "      <td>16</td>\n",
       "      <td>12</td>\n",
       "      <td>0</td>\n",
       "      <td>0</td>\n",
       "      <td>9</td>\n",
       "    </tr>\n",
       "    <tr>\n",
       "      <th>5619</th>\n",
       "      <td>0</td>\n",
       "      <td>0</td>\n",
       "      <td>10</td>\n",
       "      <td>14</td>\n",
       "      <td>8</td>\n",
       "      <td>1</td>\n",
       "      <td>0</td>\n",
       "      <td>0</td>\n",
       "      <td>0</td>\n",
       "      <td>2</td>\n",
       "      <td>...</td>\n",
       "      <td>0</td>\n",
       "      <td>0</td>\n",
       "      <td>1</td>\n",
       "      <td>8</td>\n",
       "      <td>12</td>\n",
       "      <td>14</td>\n",
       "      <td>12</td>\n",
       "      <td>1</td>\n",
       "      <td>0</td>\n",
       "      <td>8</td>\n",
       "    </tr>\n",
       "  </tbody>\n",
       "</table>\n",
       "<p>5620 rows × 65 columns</p>\n",
       "</div>"
      ],
      "text/plain": [
       "      Attribute1  Attribute2  Attribute3  Attribute4  Attribute5  Attribute6  \\\n",
       "0              0           1           6          15          12           1   \n",
       "1              0           0          10          16           6           0   \n",
       "2              0           0           8          15          16          13   \n",
       "3              0           0           0           3          11          16   \n",
       "4              0           0           5          14           4           0   \n",
       "...          ...         ...         ...         ...         ...         ...   \n",
       "5615           0           0           4          10          13           6   \n",
       "5616           0           0           6          16          13          11   \n",
       "5617           0           0           1          11          15           1   \n",
       "5618           0           0           2          10           7           0   \n",
       "5619           0           0          10          14           8           1   \n",
       "\n",
       "      Attribute7  Attribute8  Attribute9  Attribute10  ...  Attribute56  \\\n",
       "0              0           0           0            7  ...            0   \n",
       "1              0           0           0            7  ...            0   \n",
       "2              0           0           0            1  ...            0   \n",
       "3              0           0           0            0  ...            0   \n",
       "4              0           0           0            0  ...            0   \n",
       "...          ...         ...         ...          ...  ...          ...   \n",
       "5615           0           0           0            1  ...            0   \n",
       "5616           1           0           0            0  ...            0   \n",
       "5617           0           0           0            0  ...            0   \n",
       "5618           0           0           0            0  ...            0   \n",
       "5619           0           0           0            2  ...            0   \n",
       "\n",
       "      Attribute57  Attribute58  Attribute59  Attribute60  Attribute61  \\\n",
       "0               0            0            6           14            7   \n",
       "1               0            0           10           16           15   \n",
       "2               0            0            9           14            0   \n",
       "3               0            0            0            1           15   \n",
       "4               0            0            4           12           14   \n",
       "...           ...          ...          ...          ...          ...   \n",
       "5615            0            0            2           14           15   \n",
       "5616            0            0            6           16           14   \n",
       "5617            0            0            2            9           13   \n",
       "5618            0            0            5           12           16   \n",
       "5619            0            1            8           12           14   \n",
       "\n",
       "      Attribute62  Attribute63  Attribute64  class  \n",
       "0               1            0            0      0  \n",
       "1               3            0            0      0  \n",
       "2               0            0            0      7  \n",
       "3               2            0            0      4  \n",
       "4               7            0            0      6  \n",
       "...           ...          ...          ...    ...  \n",
       "5615            9            0            0      9  \n",
       "5616            6            0            0      0  \n",
       "5617            6            0            0      8  \n",
       "5618           12            0            0      9  \n",
       "5619           12            1            0      8  \n",
       "\n",
       "[5620 rows x 65 columns]"
      ]
     },
     "execution_count": 12,
     "metadata": {},
     "output_type": "execute_result"
    }
   ],
   "source": [
    "data_ = pd.read_csv(\"optdigits/optdigits.csv\")\n",
    "data_"
   ]
  },
  {
   "cell_type": "code",
   "execution_count": 13,
   "metadata": {},
   "outputs": [
    {
     "name": "stdout",
     "output_type": "stream",
     "text": [
      "\n",
      "Missing values in dataset: \n",
      "[False False False False False False False False False False False False\n",
      " False False False False False False False False False False False False\n",
      " False False False False False False False False False False False False\n",
      " False False False False False False False False False False False False\n",
      " False False False False False False False False False False False False\n",
      " False False False False False]\n"
     ]
    }
   ],
   "source": [
    "# Check for any missing values in the dataset\n",
    "print(f\"\\nMissing values in dataset: \\n{data_.isna().any().values}\")"
   ]
  },
  {
   "cell_type": "markdown",
   "metadata": {},
   "source": [
    "We have a cleaned dataset with **5,620** training examples, **64** feature variables, and **1** target variable. Our goal is to build a multiclass classification model with a non-linear decision boundaries. To ensure that the non-linear decision boundaries will be suitable for this multiclass dataset, we will use the same approach as we did with our previous goal of building a multiclass classification model with a linear decision boundaries."
   ]
  },
  {
   "cell_type": "code",
   "execution_count": 14,
   "metadata": {},
   "outputs": [
    {
     "name": "stdout",
     "output_type": "stream",
     "text": [
      "Training set: (3372, 64), (3372,)\n",
      "Validation set: (1124, 64), (1124,)\n",
      "Test set: (1124, 64), (1124,)\n"
     ]
    }
   ],
   "source": [
    "# Convert the data_ into numpy arrays of features (X_) and target (y_)\n",
    "X_ = data_.iloc[:, :-1].values\n",
    "y_ = data_.iloc[:, -1].values\n",
    "\n",
    "# Splitting the dataset into training, validation, and test sets\n",
    "X_train_, y_train_, X_val_, y_val_, X_test_, y_test_ = split_dataset(X_, y_)\n",
    "\n",
    "# Printing the shapes of the resulting datasets\n",
    "print(f\"Training set: {X_train_.shape}, {y_train_.shape}\")\n",
    "print(f\"Validation set: {X_val_.shape}, {y_val_.shape}\")\n",
    "print(f\"Test set: {X_test_.shape}, {y_test_.shape}\")"
   ]
  },
  {
   "cell_type": "code",
   "execution_count": 15,
   "metadata": {},
   "outputs": [
    {
     "name": "stdout",
     "output_type": "stream",
     "text": [
      "Linear Multinomial Logistic Regression:\n",
      "Training set - Accuracy: 0.9923, Precision: 0.9923, Recall: 0.9923, F1-score: 0.9923\n",
      "Validation set - Accuracy: 0.9724, Precision: 0.9728, Recall: 0.9724, F1-score: 0.9725\n",
      "Test set - Accuracy: 0.9680, Precision: 0.9684, Recall: 0.9680, F1-score: 0.9680\n",
      "\n",
      "Polynomial Degree 2 Multinomial Logistic Regression:\n",
      "Training set - Accuracy: 1.0000, Precision: 1.0000, Recall: 1.0000, F1-score: 1.0000\n",
      "Validation set - Accuracy: 0.9831, Precision: 0.9833, Recall: 0.9831, F1-score: 0.9832\n",
      "Test set - Accuracy: 0.9849, Precision: 0.9850, Recall: 0.9849, F1-score: 0.9849\n",
      "\n",
      "Polynomial Degree 3 Multinomial Logistic Regression:\n",
      "Training set - Accuracy: 1.0000, Precision: 1.0000, Recall: 1.0000, F1-score: 1.0000\n",
      "Validation set - Accuracy: 0.9875, Precision: 0.9877, Recall: 0.9875, F1-score: 0.9876\n",
      "Test set - Accuracy: 0.9858, Precision: 0.9859, Recall: 0.9858, F1-score: 0.9858\n"
     ]
    }
   ],
   "source": [
    "# Train and evaluate linear multinomial logistic regression model for multiclass classification\n",
    "linear_mlr_model_ = train_eval_multinomial_logistic_regression(X_train_, y_train_, X_val_, y_val_, \\\n",
    "                                                               X_test_, y_test_)\n",
    "\n",
    "# Train and evaluate polynomial (degree 2) multinomial logistic regression model for multiclass classification\n",
    "poly2_mlr_model_ = train_eval_multinomial_logistic_regression(X_train_, y_train_, X_val_, y_val_, \\\n",
    "                                                              X_test_, y_test_, degree=2)\n",
    "\n",
    "# Train and evaluate polynomial (degree 3) multinomial logistic regression model for multiclass classification\n",
    "poly3_mlr_model_ = train_eval_multinomial_logistic_regression(X_train_, y_train_, X_val_, y_val_, \\\n",
    "                                                              X_test_, y_test_, degree=3)"
   ]
  },
  {
   "cell_type": "markdown",
   "metadata": {},
   "source": [
    "The comparison of multinomial logistic regression models shows that the **Linear Multinomial Logistic Regression** model performs well with a training accuracy of **0.9923**, but the polynomial models outperform it. The **Polynomial Degree 2 Multinomial Logistic Regression** achieves perfect performance on the training set (**accuracy: 1.0000**) and maintains consistently high performance on both the validation (**accuracy: 0.9831**) and test sets (**accuracy: 0.9849**), showing no drop in performance. In contrast, while the **Polynomial Degree 3 Multinomial Logistic Regression** model also achieves perfect training accuracy (**1.0000**), it shows a slight drop in performance on the test set (**accuracy: 0.9858**) compared to the validation set (**accuracy: 0.9875**). This suggests that the **Polynomial Degree 2** model generalizes slightly better, maintaining stable performance without overfitting, making it the more optimal choice for this dataset."
   ]
  },
  {
   "cell_type": "code",
   "execution_count": 16,
   "metadata": {},
   "outputs": [],
   "source": [
    "# Apply the polynomial features to the dataset\n",
    "poly = PolynomialFeatures(degree=2, include_bias=False)\n",
    "X_train_poly = poly.fit_transform(X_train_)\n",
    "X_val_poly = poly.transform(X_val_)\n",
    "X_test_poly = poly.transform(X_test_)"
   ]
  },
  {
   "cell_type": "code",
   "execution_count": 17,
   "metadata": {},
   "outputs": [],
   "source": [
    "# Standardize the dataset\n",
    "scaler_, X_train_poly_scaled, X_val_poly_scaled, X_test_poly_scaled = standardize_dataset(X_train_poly, \n",
    "                                                                                          X_val_poly, X_test_poly)"
   ]
  },
  {
   "cell_type": "code",
   "execution_count": 43,
   "metadata": {},
   "outputs": [
    {
     "name": "stdout",
     "output_type": "stream",
     "text": [
      "Iteration 1/200: Cost 2.302585091994046\n",
      "Iteration 2/200: Cost 1.260707638406088\n",
      "Iteration 3/200: Cost 0.5906363871207801\n",
      "Iteration 4/200: Cost 0.3850760328444319\n",
      "Iteration 5/200: Cost 0.28646833689095524\n",
      "Iteration 6/200: Cost 0.22936520103099922\n",
      "Iteration 7/200: Cost 0.1902085829983312\n",
      "Iteration 8/200: Cost 0.1642712611924324\n",
      "Iteration 9/200: Cost 0.14429775044678267\n",
      "Iteration 10/200: Cost 0.12818792572331209\n",
      "Iteration 11/200: Cost 0.11490871978986932\n",
      "Iteration 12/200: Cost 0.10414014842955388\n",
      "Iteration 13/200: Cost 0.0949956607435425\n",
      "Iteration 14/200: Cost 0.08694258248632855\n",
      "Iteration 15/200: Cost 0.0797225418925461\n",
      "Iteration 16/200: Cost 0.07322485193497326\n",
      "Iteration 17/200: Cost 0.06736334610207807\n",
      "Iteration 18/200: Cost 0.06207643111205437\n",
      "Iteration 19/200: Cost 0.05729847333398635\n",
      "Iteration 20/200: Cost 0.052964918398233314\n",
      "Iteration 21/200: Cost 0.04902494121563997\n",
      "Iteration 22/200: Cost 0.04544033252753974\n",
      "Iteration 23/200: Cost 0.042177995619156236\n",
      "Iteration 24/200: Cost 0.03920646968094128\n",
      "Iteration 25/200: Cost 0.036495819109791765\n",
      "Iteration 26/200: Cost 0.034019430101771754\n",
      "Iteration 27/200: Cost 0.03175585173274179\n",
      "Iteration 28/200: Cost 0.029685587765262082\n",
      "Iteration 29/200: Cost 0.02778636276408384\n",
      "Iteration 30/200: Cost 0.02603608840604751\n",
      "Iteration 31/200: Cost 0.024418999450865717\n",
      "Iteration 32/200: Cost 0.02292803090081214\n",
      "Iteration 33/200: Cost 0.021564193680317482\n",
      "Iteration 34/200: Cost 0.020331589991919554\n",
      "Iteration 35/200: Cost 0.019227634895401097\n",
      "Iteration 36/200: Cost 0.01823911166937819\n",
      "Iteration 37/200: Cost 0.017349035415375972\n",
      "Iteration 38/200: Cost 0.01654280886107985\n",
      "Iteration 39/200: Cost 0.015808965638663148\n",
      "Iteration 40/200: Cost 0.01513798988511241\n",
      "Iteration 41/200: Cost 0.014521461209156724\n",
      "Iteration 42/200: Cost 0.013951889616314442\n",
      "Iteration 43/200: Cost 0.013422872920369297\n",
      "Iteration 44/200: Cost 0.012929192750244525\n",
      "Iteration 45/200: Cost 0.01246673526074654\n",
      "Iteration 46/200: Cost 0.012032297509174067\n",
      "Iteration 47/200: Cost 0.011623361801633822\n",
      "Iteration 48/200: Cost 0.011237887849499322\n",
      "Iteration 49/200: Cost 0.010874146114855807\n",
      "Iteration 50/200: Cost 0.010530601476487912\n",
      "Iteration 51/200: Cost 0.010205846427164935\n",
      "Iteration 52/200: Cost 0.009898574385988535\n",
      "Iteration 53/200: Cost 0.009607578428828954\n",
      "Iteration 54/200: Cost 0.009331760594393336\n",
      "Iteration 55/200: Cost 0.009070140729671688\n",
      "Iteration 56/200: Cost 0.008821858796033727\n",
      "Iteration 57/200: Cost 0.008586168575243941\n",
      "Iteration 58/200: Cost 0.00836242322969256\n",
      "Iteration 59/200: Cost 0.008150054588863047\n",
      "Iteration 60/200: Cost 0.00794854890953242\n",
      "Iteration 61/200: Cost 0.007757422430104637\n",
      "Iteration 62/200: Cost 0.007576200181906114\n",
      "Iteration 63/200: Cost 0.007404400967313805\n",
      "Iteration 64/200: Cost 0.007241530095285415\n",
      "Iteration 65/200: Cost 0.007087079701874462\n",
      "Iteration 66/200: Cost 0.0069405348886491395\n",
      "Iteration 67/200: Cost 0.006801383038209722\n",
      "Iteration 68/200: Cost 0.006669123692314558\n",
      "Iteration 69/200: Cost 0.006543277071115895\n",
      "Iteration 70/200: Cost 0.006423390243049443\n",
      "Iteration 71/200: Cost 0.006309040760504869\n",
      "Iteration 72/200: Cost 0.006199838086538405\n",
      "Iteration 73/200: Cost 0.006095423355520143\n",
      "Iteration 74/200: Cost 0.005995468024725967\n",
      "Iteration 75/200: Cost 0.005899671883687403\n",
      "Iteration 76/200: Cost 0.005807760766108428\n",
      "Iteration 77/200: Cost 0.005719484195318142\n",
      "Iteration 78/200: Cost 0.005634613104277023\n",
      "Iteration 79/200: Cost 0.0055529377070541236\n",
      "Iteration 80/200: Cost 0.005474265556414227\n",
      "Iteration 81/200: Cost 0.005398419796132254\n",
      "Iteration 82/200: Cost 0.005325237601808291\n",
      "Iteration 83/200: Cost 0.005254568796347046\n",
      "Iteration 84/200: Cost 0.005186274623095276\n",
      "Iteration 85/200: Cost 0.005120226659033616\n",
      "Iteration 86/200: Cost 0.005056305851211682\n",
      "Iteration 87/200: Cost 0.0049944016610680665\n",
      "Iteration 88/200: Cost 0.004934411302971393\n",
      "Iteration 89/200: Cost 0.004876239065017953\n",
      "Iteration 90/200: Cost 0.004819795701710006\n",
      "Iteration 91/200: Cost 0.004764997889560137\n",
      "Iteration 92/200: Cost 0.004711767737914695\n",
      "Iteration 93/200: Cost 0.004660032348361481\n",
      "Iteration 94/200: Cost 0.004609723417005795\n",
      "Iteration 95/200: Cost 0.0045607768746793445\n",
      "Iteration 96/200: Cost 0.004513132560809415\n",
      "Iteration 97/200: Cost 0.004466733927238366\n",
      "Iteration 98/200: Cost 0.0044215277687624215\n",
      "Iteration 99/200: Cost 0.004377463977565353\n",
      "Iteration 100/200: Cost 0.004334495319071758\n",
      "Iteration 101/200: Cost 0.004292577227043151\n",
      "Iteration 102/200: Cost 0.00425166761599591\n",
      "Iteration 103/200: Cost 0.0042117267092432326\n",
      "Iteration 104/200: Cost 0.004172716881054675\n",
      "Iteration 105/200: Cost 0.004134602511593242\n",
      "Iteration 106/200: Cost 0.004097349853437385\n",
      "Iteration 107/200: Cost 0.0040609269086206625\n",
      "Iteration 108/200: Cost 0.004025303315235554\n",
      "Iteration 109/200: Cost 0.00399045024274505\n",
      "Iteration 110/200: Cost 0.003956340295234012\n",
      "Iteration 111/200: Cost 0.0039229474219072006\n",
      "Iteration 112/200: Cost 0.003890246834211697\n",
      "Iteration 113/200: Cost 0.0038582149290194508\n",
      "Iteration 114/200: Cost 0.003826829217361854\n",
      "Iteration 115/200: Cost 0.0037960682582551643\n",
      "Iteration 116/200: Cost 0.003765911597198985\n",
      "Iteration 117/200: Cost 0.0037363397089690813\n",
      "Iteration 118/200: Cost 0.0037073339443595035\n",
      "Iteration 119/200: Cost 0.003678876480561336\n",
      "Iteration 120/200: Cost 0.003650950274891633\n",
      "Iteration 121/200: Cost 0.0036235390216135216\n",
      "Iteration 122/200: Cost 0.003596627111608888\n",
      "Iteration 123/200: Cost 0.0035701995946872504\n",
      "Iteration 124/200: Cost 0.003544242144332329\n",
      "Iteration 125/200: Cost 0.0035187410247044188\n",
      "Iteration 126/200: Cost 0.003493683059732551\n",
      "Iteration 127/200: Cost 0.0034690556041434\n",
      "Iteration 128/200: Cost 0.0034448465162872748\n",
      "Iteration 129/200: Cost 0.0034210441326323403\n",
      "Iteration 130/200: Cost 0.003397637243808695\n",
      "Iteration 131/200: Cost 0.0033746150720937664\n",
      "Iteration 132/200: Cost 0.003351967250238254\n",
      "Iteration 133/200: Cost 0.0033296838015411164\n",
      "Iteration 134/200: Cost 0.003307755121087342\n",
      "Iteration 135/200: Cost 0.0032861719580707218\n",
      "Iteration 136/200: Cost 0.0032649253991285745\n",
      "Iteration 137/200: Cost 0.003244006852621224\n",
      "Iteration 138/200: Cost 0.0032234080337944435\n",
      "Iteration 139/200: Cost 0.00320312095076697\n",
      "Iteration 140/200: Cost 0.003183137891290083\n",
      "Iteration 141/200: Cost 0.0031634514102297263\n",
      "Iteration 142/200: Cost 0.0031440543177254335\n",
      "Iteration 143/200: Cost 0.003124939667983408\n",
      "Iteration 144/200: Cost 0.0031061007486645315\n",
      "Iteration 145/200: Cost 0.003087531070830155\n",
      "Iteration 146/200: Cost 0.0030692243594119366\n",
      "Iteration 147/200: Cost 0.003051174544173765\n",
      "Iteration 148/200: Cost 0.003033375751136043\n",
      "Iteration 149/200: Cost 0.003015822294435062\n",
      "Iteration 150/200: Cost 0.002998508668591489\n",
      "Iteration 151/200: Cost 0.002981429541164016\n",
      "Iteration 152/200: Cost 0.002964579745766022\n",
      "Iteration 153/200: Cost 0.00294795427542394\n",
      "Iteration 154/200: Cost 0.0029315482762582107\n",
      "Iteration 155/200: Cost 0.0029153570414681227\n",
      "Iteration 156/200: Cost 0.0028993760056037726\n",
      "Iteration 157/200: Cost 0.0028836007391090856\n",
      "Iteration 158/200: Cost 0.0028680269431206433\n",
      "Iteration 159/200: Cost 0.0028526504445087037\n",
      "Iteration 160/200: Cost 0.0028374671911468525\n",
      "Iteration 161/200: Cost 0.002822473247398171\n",
      "Iteration 162/200: Cost 0.0028076647898062973\n",
      "Iteration 163/200: Cost 0.002793038102980317\n",
      "Iteration 164/200: Cost 0.002778589575663514\n",
      "Iteration 165/200: Cost 0.0027643156969763077\n",
      "Iteration 166/200: Cost 0.002750213052824001\n",
      "Iteration 167/200: Cost 0.0027362783224614876\n",
      "Iteration 168/200: Cost 0.0027225082752062586\n",
      "Iteration 169/200: Cost 0.002708899767292598\n",
      "Iteration 170/200: Cost 0.0026954497388596444\n",
      "Iteration 171/200: Cost 0.002682155211066858\n",
      "Iteration 172/200: Cost 0.0026690132833301302\n",
      "Iteration 173/200: Cost 0.002656021130673323\n",
      "Iteration 174/200: Cost 0.0026431760011887255\n",
      "Iteration 175/200: Cost 0.0026304752136019154\n",
      "Iteration 176/200: Cost 0.002617916154935504\n",
      "Iteration 177/200: Cost 0.002605496278267274\n",
      "Iteration 178/200: Cost 0.002593213100578165\n",
      "Iteration 179/200: Cost 0.002581064200685841\n",
      "Iteration 180/200: Cost 0.0025690472172599007\n",
      "Iteration 181/200: Cost 0.0025571598469148154\n",
      "Iteration 182/200: Cost 0.002545399842377357\n",
      "Iteration 183/200: Cost 0.002533765010724463\n",
      "Iteration 184/200: Cost 0.002522253211689127\n",
      "Iteration 185/200: Cost 0.0025108623560304477\n",
      "Iteration 186/200: Cost 0.002499590403965783\n",
      "Iteration 187/200: Cost 0.002488435363661312\n",
      "Iteration 188/200: Cost 0.002477395289779433\n",
      "Iteration 189/200: Cost 0.002466468282079549\n",
      "Iteration 190/200: Cost 0.0024556524840705567\n",
      "Iteration 191/200: Cost 0.0024449460817126834\n",
      "Iteration 192/200: Cost 0.0024343473021661934\n",
      "Iteration 193/200: Cost 0.0024238544125853487\n",
      "Iteration 194/200: Cost 0.002413465718955701\n",
      "Iteration 195/200: Cost 0.002403179564972481\n",
      "Iteration 196/200: Cost 0.0023929943309588596\n",
      "Iteration 197/200: Cost 0.002382908432822029\n",
      "Iteration 198/200: Cost 0.0023729203210458923\n",
      "Iteration 199/200: Cost 0.0023630284797184096\n",
      "Iteration 200/200: Cost 0.0023532314255926834\n"
     ]
    }
   ],
   "source": [
    "# Train custom polynomial (degree 2) multinomial logistic regression model\n",
    "custom_poly2_mlr_model = MultinomialLogisticRegression(learning_rate=1, num_iterations=200)\n",
    "custom_poly2_mlr_model.fit(X_train_poly_scaled, y_train_)"
   ]
  },
  {
   "cell_type": "code",
   "execution_count": 44,
   "metadata": {},
   "outputs": [
    {
     "data": {
      "application/vnd.plotly.v1+json": {
       "config": {
        "plotlyServerURL": "https://plot.ly"
       },
       "data": [
        {
         "hovertemplate": "Iteration=%{x}<br>Cost=%{y}<extra></extra>",
         "legendgroup": "",
         "line": {
          "color": "#636efa",
          "dash": "solid"
         },
         "marker": {
          "symbol": "circle"
         },
         "mode": "lines",
         "name": "",
         "orientation": "v",
         "showlegend": false,
         "type": "scatter",
         "x": [
          100,
          200
         ],
         "xaxis": "x",
         "y": [
          0.004334495319071758,
          0.0023532314255926834
         ],
         "yaxis": "y"
        }
       ],
       "layout": {
        "legend": {
         "tracegroupgap": 0
        },
        "template": {
         "data": {
          "bar": [
           {
            "error_x": {
             "color": "#2a3f5f"
            },
            "error_y": {
             "color": "#2a3f5f"
            },
            "marker": {
             "line": {
              "color": "#E5ECF6",
              "width": 0.5
             },
             "pattern": {
              "fillmode": "overlay",
              "size": 10,
              "solidity": 0.2
             }
            },
            "type": "bar"
           }
          ],
          "barpolar": [
           {
            "marker": {
             "line": {
              "color": "#E5ECF6",
              "width": 0.5
             },
             "pattern": {
              "fillmode": "overlay",
              "size": 10,
              "solidity": 0.2
             }
            },
            "type": "barpolar"
           }
          ],
          "carpet": [
           {
            "aaxis": {
             "endlinecolor": "#2a3f5f",
             "gridcolor": "white",
             "linecolor": "white",
             "minorgridcolor": "white",
             "startlinecolor": "#2a3f5f"
            },
            "baxis": {
             "endlinecolor": "#2a3f5f",
             "gridcolor": "white",
             "linecolor": "white",
             "minorgridcolor": "white",
             "startlinecolor": "#2a3f5f"
            },
            "type": "carpet"
           }
          ],
          "choropleth": [
           {
            "colorbar": {
             "outlinewidth": 0,
             "ticks": ""
            },
            "type": "choropleth"
           }
          ],
          "contour": [
           {
            "colorbar": {
             "outlinewidth": 0,
             "ticks": ""
            },
            "colorscale": [
             [
              0,
              "#0d0887"
             ],
             [
              0.1111111111111111,
              "#46039f"
             ],
             [
              0.2222222222222222,
              "#7201a8"
             ],
             [
              0.3333333333333333,
              "#9c179e"
             ],
             [
              0.4444444444444444,
              "#bd3786"
             ],
             [
              0.5555555555555556,
              "#d8576b"
             ],
             [
              0.6666666666666666,
              "#ed7953"
             ],
             [
              0.7777777777777778,
              "#fb9f3a"
             ],
             [
              0.8888888888888888,
              "#fdca26"
             ],
             [
              1,
              "#f0f921"
             ]
            ],
            "type": "contour"
           }
          ],
          "contourcarpet": [
           {
            "colorbar": {
             "outlinewidth": 0,
             "ticks": ""
            },
            "type": "contourcarpet"
           }
          ],
          "heatmap": [
           {
            "colorbar": {
             "outlinewidth": 0,
             "ticks": ""
            },
            "colorscale": [
             [
              0,
              "#0d0887"
             ],
             [
              0.1111111111111111,
              "#46039f"
             ],
             [
              0.2222222222222222,
              "#7201a8"
             ],
             [
              0.3333333333333333,
              "#9c179e"
             ],
             [
              0.4444444444444444,
              "#bd3786"
             ],
             [
              0.5555555555555556,
              "#d8576b"
             ],
             [
              0.6666666666666666,
              "#ed7953"
             ],
             [
              0.7777777777777778,
              "#fb9f3a"
             ],
             [
              0.8888888888888888,
              "#fdca26"
             ],
             [
              1,
              "#f0f921"
             ]
            ],
            "type": "heatmap"
           }
          ],
          "heatmapgl": [
           {
            "colorbar": {
             "outlinewidth": 0,
             "ticks": ""
            },
            "colorscale": [
             [
              0,
              "#0d0887"
             ],
             [
              0.1111111111111111,
              "#46039f"
             ],
             [
              0.2222222222222222,
              "#7201a8"
             ],
             [
              0.3333333333333333,
              "#9c179e"
             ],
             [
              0.4444444444444444,
              "#bd3786"
             ],
             [
              0.5555555555555556,
              "#d8576b"
             ],
             [
              0.6666666666666666,
              "#ed7953"
             ],
             [
              0.7777777777777778,
              "#fb9f3a"
             ],
             [
              0.8888888888888888,
              "#fdca26"
             ],
             [
              1,
              "#f0f921"
             ]
            ],
            "type": "heatmapgl"
           }
          ],
          "histogram": [
           {
            "marker": {
             "pattern": {
              "fillmode": "overlay",
              "size": 10,
              "solidity": 0.2
             }
            },
            "type": "histogram"
           }
          ],
          "histogram2d": [
           {
            "colorbar": {
             "outlinewidth": 0,
             "ticks": ""
            },
            "colorscale": [
             [
              0,
              "#0d0887"
             ],
             [
              0.1111111111111111,
              "#46039f"
             ],
             [
              0.2222222222222222,
              "#7201a8"
             ],
             [
              0.3333333333333333,
              "#9c179e"
             ],
             [
              0.4444444444444444,
              "#bd3786"
             ],
             [
              0.5555555555555556,
              "#d8576b"
             ],
             [
              0.6666666666666666,
              "#ed7953"
             ],
             [
              0.7777777777777778,
              "#fb9f3a"
             ],
             [
              0.8888888888888888,
              "#fdca26"
             ],
             [
              1,
              "#f0f921"
             ]
            ],
            "type": "histogram2d"
           }
          ],
          "histogram2dcontour": [
           {
            "colorbar": {
             "outlinewidth": 0,
             "ticks": ""
            },
            "colorscale": [
             [
              0,
              "#0d0887"
             ],
             [
              0.1111111111111111,
              "#46039f"
             ],
             [
              0.2222222222222222,
              "#7201a8"
             ],
             [
              0.3333333333333333,
              "#9c179e"
             ],
             [
              0.4444444444444444,
              "#bd3786"
             ],
             [
              0.5555555555555556,
              "#d8576b"
             ],
             [
              0.6666666666666666,
              "#ed7953"
             ],
             [
              0.7777777777777778,
              "#fb9f3a"
             ],
             [
              0.8888888888888888,
              "#fdca26"
             ],
             [
              1,
              "#f0f921"
             ]
            ],
            "type": "histogram2dcontour"
           }
          ],
          "mesh3d": [
           {
            "colorbar": {
             "outlinewidth": 0,
             "ticks": ""
            },
            "type": "mesh3d"
           }
          ],
          "parcoords": [
           {
            "line": {
             "colorbar": {
              "outlinewidth": 0,
              "ticks": ""
             }
            },
            "type": "parcoords"
           }
          ],
          "pie": [
           {
            "automargin": true,
            "type": "pie"
           }
          ],
          "scatter": [
           {
            "fillpattern": {
             "fillmode": "overlay",
             "size": 10,
             "solidity": 0.2
            },
            "type": "scatter"
           }
          ],
          "scatter3d": [
           {
            "line": {
             "colorbar": {
              "outlinewidth": 0,
              "ticks": ""
             }
            },
            "marker": {
             "colorbar": {
              "outlinewidth": 0,
              "ticks": ""
             }
            },
            "type": "scatter3d"
           }
          ],
          "scattercarpet": [
           {
            "marker": {
             "colorbar": {
              "outlinewidth": 0,
              "ticks": ""
             }
            },
            "type": "scattercarpet"
           }
          ],
          "scattergeo": [
           {
            "marker": {
             "colorbar": {
              "outlinewidth": 0,
              "ticks": ""
             }
            },
            "type": "scattergeo"
           }
          ],
          "scattergl": [
           {
            "marker": {
             "colorbar": {
              "outlinewidth": 0,
              "ticks": ""
             }
            },
            "type": "scattergl"
           }
          ],
          "scattermapbox": [
           {
            "marker": {
             "colorbar": {
              "outlinewidth": 0,
              "ticks": ""
             }
            },
            "type": "scattermapbox"
           }
          ],
          "scatterpolar": [
           {
            "marker": {
             "colorbar": {
              "outlinewidth": 0,
              "ticks": ""
             }
            },
            "type": "scatterpolar"
           }
          ],
          "scatterpolargl": [
           {
            "marker": {
             "colorbar": {
              "outlinewidth": 0,
              "ticks": ""
             }
            },
            "type": "scatterpolargl"
           }
          ],
          "scatterternary": [
           {
            "marker": {
             "colorbar": {
              "outlinewidth": 0,
              "ticks": ""
             }
            },
            "type": "scatterternary"
           }
          ],
          "surface": [
           {
            "colorbar": {
             "outlinewidth": 0,
             "ticks": ""
            },
            "colorscale": [
             [
              0,
              "#0d0887"
             ],
             [
              0.1111111111111111,
              "#46039f"
             ],
             [
              0.2222222222222222,
              "#7201a8"
             ],
             [
              0.3333333333333333,
              "#9c179e"
             ],
             [
              0.4444444444444444,
              "#bd3786"
             ],
             [
              0.5555555555555556,
              "#d8576b"
             ],
             [
              0.6666666666666666,
              "#ed7953"
             ],
             [
              0.7777777777777778,
              "#fb9f3a"
             ],
             [
              0.8888888888888888,
              "#fdca26"
             ],
             [
              1,
              "#f0f921"
             ]
            ],
            "type": "surface"
           }
          ],
          "table": [
           {
            "cells": {
             "fill": {
              "color": "#EBF0F8"
             },
             "line": {
              "color": "white"
             }
            },
            "header": {
             "fill": {
              "color": "#C8D4E3"
             },
             "line": {
              "color": "white"
             }
            },
            "type": "table"
           }
          ]
         },
         "layout": {
          "annotationdefaults": {
           "arrowcolor": "#2a3f5f",
           "arrowhead": 0,
           "arrowwidth": 1
          },
          "autotypenumbers": "strict",
          "coloraxis": {
           "colorbar": {
            "outlinewidth": 0,
            "ticks": ""
           }
          },
          "colorscale": {
           "diverging": [
            [
             0,
             "#8e0152"
            ],
            [
             0.1,
             "#c51b7d"
            ],
            [
             0.2,
             "#de77ae"
            ],
            [
             0.3,
             "#f1b6da"
            ],
            [
             0.4,
             "#fde0ef"
            ],
            [
             0.5,
             "#f7f7f7"
            ],
            [
             0.6,
             "#e6f5d0"
            ],
            [
             0.7,
             "#b8e186"
            ],
            [
             0.8,
             "#7fbc41"
            ],
            [
             0.9,
             "#4d9221"
            ],
            [
             1,
             "#276419"
            ]
           ],
           "sequential": [
            [
             0,
             "#0d0887"
            ],
            [
             0.1111111111111111,
             "#46039f"
            ],
            [
             0.2222222222222222,
             "#7201a8"
            ],
            [
             0.3333333333333333,
             "#9c179e"
            ],
            [
             0.4444444444444444,
             "#bd3786"
            ],
            [
             0.5555555555555556,
             "#d8576b"
            ],
            [
             0.6666666666666666,
             "#ed7953"
            ],
            [
             0.7777777777777778,
             "#fb9f3a"
            ],
            [
             0.8888888888888888,
             "#fdca26"
            ],
            [
             1,
             "#f0f921"
            ]
           ],
           "sequentialminus": [
            [
             0,
             "#0d0887"
            ],
            [
             0.1111111111111111,
             "#46039f"
            ],
            [
             0.2222222222222222,
             "#7201a8"
            ],
            [
             0.3333333333333333,
             "#9c179e"
            ],
            [
             0.4444444444444444,
             "#bd3786"
            ],
            [
             0.5555555555555556,
             "#d8576b"
            ],
            [
             0.6666666666666666,
             "#ed7953"
            ],
            [
             0.7777777777777778,
             "#fb9f3a"
            ],
            [
             0.8888888888888888,
             "#fdca26"
            ],
            [
             1,
             "#f0f921"
            ]
           ]
          },
          "colorway": [
           "#636efa",
           "#EF553B",
           "#00cc96",
           "#ab63fa",
           "#FFA15A",
           "#19d3f3",
           "#FF6692",
           "#B6E880",
           "#FF97FF",
           "#FECB52"
          ],
          "font": {
           "color": "#2a3f5f"
          },
          "geo": {
           "bgcolor": "white",
           "lakecolor": "white",
           "landcolor": "#E5ECF6",
           "showlakes": true,
           "showland": true,
           "subunitcolor": "white"
          },
          "hoverlabel": {
           "align": "left"
          },
          "hovermode": "closest",
          "mapbox": {
           "style": "light"
          },
          "paper_bgcolor": "white",
          "plot_bgcolor": "#E5ECF6",
          "polar": {
           "angularaxis": {
            "gridcolor": "white",
            "linecolor": "white",
            "ticks": ""
           },
           "bgcolor": "#E5ECF6",
           "radialaxis": {
            "gridcolor": "white",
            "linecolor": "white",
            "ticks": ""
           }
          },
          "scene": {
           "xaxis": {
            "backgroundcolor": "#E5ECF6",
            "gridcolor": "white",
            "gridwidth": 2,
            "linecolor": "white",
            "showbackground": true,
            "ticks": "",
            "zerolinecolor": "white"
           },
           "yaxis": {
            "backgroundcolor": "#E5ECF6",
            "gridcolor": "white",
            "gridwidth": 2,
            "linecolor": "white",
            "showbackground": true,
            "ticks": "",
            "zerolinecolor": "white"
           },
           "zaxis": {
            "backgroundcolor": "#E5ECF6",
            "gridcolor": "white",
            "gridwidth": 2,
            "linecolor": "white",
            "showbackground": true,
            "ticks": "",
            "zerolinecolor": "white"
           }
          },
          "shapedefaults": {
           "line": {
            "color": "#2a3f5f"
           }
          },
          "ternary": {
           "aaxis": {
            "gridcolor": "white",
            "linecolor": "white",
            "ticks": ""
           },
           "baxis": {
            "gridcolor": "white",
            "linecolor": "white",
            "ticks": ""
           },
           "bgcolor": "#E5ECF6",
           "caxis": {
            "gridcolor": "white",
            "linecolor": "white",
            "ticks": ""
           }
          },
          "title": {
           "x": 0.05
          },
          "xaxis": {
           "automargin": true,
           "gridcolor": "white",
           "linecolor": "white",
           "ticks": "",
           "title": {
            "standoff": 15
           },
           "zerolinecolor": "white",
           "zerolinewidth": 2
          },
          "yaxis": {
           "automargin": true,
           "gridcolor": "white",
           "linecolor": "white",
           "ticks": "",
           "title": {
            "standoff": 15
           },
           "zerolinecolor": "white",
           "zerolinewidth": 2
          }
         }
        },
        "title": {
         "text": "Iteration vs Cost"
        },
        "xaxis": {
         "anchor": "y",
         "domain": [
          0,
          1
         ],
         "title": {
          "text": "Iteration"
         }
        },
        "yaxis": {
         "anchor": "x",
         "domain": [
          0,
          1
         ],
         "title": {
          "text": "Cost"
         }
        }
       }
      }
     },
     "metadata": {},
     "output_type": "display_data"
    }
   ],
   "source": [
    "# Convert cost history into numpy arrays\n",
    "cost_hist_ = np.array(custom_poly2_mlr_model.cost_history)\n",
    "\n",
    "# Plotly Express line chart\n",
    "fig = px.line(\n",
    "    x=cost_hist_[:, 0],\n",
    "    y=cost_hist_[:, 1],\n",
    "    title=\"Iteration vs Cost\",\n",
    "    labels={\"x\": \"Iteration\", \"y\": \"Cost\"}\n",
    ")\n",
    "\n",
    "# Show the plot\n",
    "fig.show()\n",
    "\n",
    "# Saved as plot_2.png in the current directory/folder"
   ]
  },
  {
   "cell_type": "markdown",
   "metadata": {},
   "source": [
    "The above plot shows the decrease in cost as the number of iterations increases, indicating the proper functioning of gradient descent in minimizing cost and leading to optimal model parameters."
   ]
  },
  {
   "cell_type": "code",
   "execution_count": 45,
   "metadata": {},
   "outputs": [
    {
     "name": "stdout",
     "output_type": "stream",
     "text": [
      "Custom Polynomial (degree 2) Multinomial Logistic Regression:\n",
      "\n",
      "Training set - Accuracy: 1.0000, Precision: 1.0000, Recall: 1.0000, F1-score: 1.0000\n",
      "Validation set - Accuracy: 0.9733, Precision: 0.9735, Recall: 0.9733, F1-score: 0.9733\n",
      "Test set - Accuracy: 0.9813, Precision: 0.9816, Recall: 0.9813, F1-score: 0.9813\n"
     ]
    }
   ],
   "source": [
    "# Evaluate the custom polynomial (degree 2) multinomial logistic regression model\n",
    "train_acc_, train_prec_, train_rec_, train_f1_ = custom_poly2_mlr_model.evaluate_model(X_train_poly_scaled, \\\n",
    "                                                                                       y_train_)\n",
    "\n",
    "val_acc_, val_prec_, val_rec_, val_f1_ = custom_poly2_mlr_model.evaluate_model(X_val_poly_scaled, y_val_)\n",
    "\n",
    "test_acc_, test_prec_, test_rec_, test_f1_ = custom_poly2_mlr_model.evaluate_model(X_test_poly_scaled, y_test_)\n",
    "\n",
    "print(\"Custom Polynomial (degree 2) Multinomial Logistic Regression:\\n\")\n",
    "\n",
    "print(f\"Training set - Accuracy: {train_acc_:.4f}, Precision: {train_prec_:.4f}, Recall: {train_rec_:.4f}, \"\n",
    "        f\"F1-score: {train_f1_:.4f}\")\n",
    "\n",
    "print(f\"Validation set - Accuracy: {val_acc_:.4f}, Precision: {val_prec_:.4f}, Recall: {val_rec_:.4f}, \"\n",
    "        f\"F1-score: {val_f1_:.4f}\")\n",
    "\n",
    "print(f\"Test set - Accuracy: {test_acc_:.4f}, Precision: {test_prec_:.4f}, Recall: {test_rec_:.4f}, \"\n",
    "        f\"F1-score: {test_f1_:.4f}\")"
   ]
  },
  {
   "cell_type": "markdown",
   "metadata": {},
   "source": [
    "Scikit-Learn Polynomial (degree 2) Multinomial Logistic Regression: <br>\n",
    "\n",
    "Training set - Accuracy: 1.0000, Precision: 1.0000, Recall: 1.0000, F1-score: 1.0000<br>\n",
    "Validation set - Accuracy: 0.9831, Precision: 0.9833, Recall: 0.9831, F1-score: 0.9832<br>\n",
    "Test set - Accuracy: 0.9849, Precision: 0.9850, Recall: 0.9849, F1-score: 0.9849"
   ]
  },
  {
   "cell_type": "markdown",
   "metadata": {},
   "source": [
    "Both the Custom and Scikit-Learn implementations of the **Polynomial (degree 2) Multinomial Logistic Regression** model demonstrated excellent performance across the training, validation, and test sets. The Custom model achieved perfect scores on the training set (**accuracy**, **precision**, **recall**, and **F1-score** all at **1.0000**), with slightly lower but still impressive validation metrics (**accuracy** 0.9733, **precision** 0.9735, **recall** and **F1-score** 0.9733), and strong test set performance (**accuracy** 0.9813, **precision** 0.9816, **recall** and **F1-score** 0.9813). \n",
    "\n",
    "Similarly, the Scikit-Learn model achieved perfect training set scores and slightly better validation metrics (**accuracy** 0.9831, **precision** 0.9833, **recall** 0.9831, and **F1-score** 0.9832), with a marginally higher test set performance (**accuracy** 0.9849, **precision** 0.9850, **recall** 0.9849, and **F1-score** 0.9849). \n",
    "\n",
    "These results affirm the robustness and reliability of both implementations in predicting outcomes and generalizing to unseen data. With this comparison, the objective of building a **Multiclass Classification Model with Non-Linear Decision Boundaries** has been achieved successfully."
   ]
  }
 ],
 "metadata": {
  "kernelspec": {
   "display_name": ".venv",
   "language": "python",
   "name": "python3"
  },
  "language_info": {
   "codemirror_mode": {
    "name": "ipython",
    "version": 3
   },
   "file_extension": ".py",
   "mimetype": "text/x-python",
   "name": "python",
   "nbconvert_exporter": "python",
   "pygments_lexer": "ipython3",
   "version": "3.12.3"
  }
 },
 "nbformat": 4,
 "nbformat_minor": 2
}
